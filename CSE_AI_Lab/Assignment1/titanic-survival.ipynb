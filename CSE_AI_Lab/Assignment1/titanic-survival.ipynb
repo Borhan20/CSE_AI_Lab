{
 "cells": [
  {
   "cell_type": "markdown",
   "id": "a56d9e0b",
   "metadata": {
    "id": "e2c055d2",
    "papermill": {
     "duration": 0.021499,
     "end_time": "2023-01-30T16:52:55.381271",
     "exception": false,
     "start_time": "2023-01-30T16:52:55.359772",
     "status": "completed"
    },
    "tags": []
   },
   "source": [
    "#  Titanic Disaster Survival Using Logistic Regression"
   ]
  },
  {
   "cell_type": "code",
   "execution_count": 1,
   "id": "c708e031",
   "metadata": {
    "execution": {
     "iopub.execute_input": "2023-01-30T16:52:55.421609Z",
     "iopub.status.busy": "2023-01-30T16:52:55.420742Z",
     "iopub.status.idle": "2023-01-30T16:52:56.719708Z",
     "shell.execute_reply": "2023-01-30T16:52:56.718592Z"
    },
    "id": "02159395",
    "papermill": {
     "duration": 1.323898,
     "end_time": "2023-01-30T16:52:56.723170",
     "exception": false,
     "start_time": "2023-01-30T16:52:55.399272",
     "status": "completed"
    },
    "tags": []
   },
   "outputs": [],
   "source": [
    "import pandas as pd\n",
    "import numpy as np\n",
    "import seaborn as sns\n",
    "import matplotlib.pyplot as plt"
   ]
  },
  {
   "cell_type": "code",
   "execution_count": 2,
   "id": "a03bc5e1",
   "metadata": {
    "execution": {
     "iopub.execute_input": "2023-01-30T16:52:56.770911Z",
     "iopub.status.busy": "2023-01-30T16:52:56.767653Z",
     "iopub.status.idle": "2023-01-30T16:52:56.803722Z",
     "shell.execute_reply": "2023-01-30T16:52:56.801859Z"
    },
    "papermill": {
     "duration": 0.065745,
     "end_time": "2023-01-30T16:52:56.806728",
     "exception": false,
     "start_time": "2023-01-30T16:52:56.740983",
     "status": "completed"
    },
    "tags": []
   },
   "outputs": [],
   "source": [
    "titanic_train = pd.read_csv(\"../input/titanic/train.csv\")\n",
    "titanic_test = pd.read_csv(\"../input/titanic/test.csv\")"
   ]
  },
  {
   "cell_type": "markdown",
   "id": "451ade61",
   "metadata": {
    "id": "32d42363",
    "papermill": {
     "duration": 0.01819,
     "end_time": "2023-01-30T16:52:56.842906",
     "exception": false,
     "start_time": "2023-01-30T16:52:56.824716",
     "status": "completed"
    },
    "tags": []
   },
   "source": [
    "### Load the Data"
   ]
  },
  {
   "cell_type": "code",
   "execution_count": 3,
   "id": "b94de1c2",
   "metadata": {
    "execution": {
     "iopub.execute_input": "2023-01-30T16:52:56.880893Z",
     "iopub.status.busy": "2023-01-30T16:52:56.879761Z",
     "iopub.status.idle": "2023-01-30T16:52:56.909422Z",
     "shell.execute_reply": "2023-01-30T16:52:56.908200Z"
    },
    "id": "31c224ba",
    "outputId": "a5322040-3a9a-4e1e-8474-a95299f97a8f",
    "papermill": {
     "duration": 0.051615,
     "end_time": "2023-01-30T16:52:56.912450",
     "exception": false,
     "start_time": "2023-01-30T16:52:56.860835",
     "status": "completed"
    },
    "tags": []
   },
   "outputs": [
    {
     "data": {
      "text/html": [
       "<div>\n",
       "<style scoped>\n",
       "    .dataframe tbody tr th:only-of-type {\n",
       "        vertical-align: middle;\n",
       "    }\n",
       "\n",
       "    .dataframe tbody tr th {\n",
       "        vertical-align: top;\n",
       "    }\n",
       "\n",
       "    .dataframe thead th {\n",
       "        text-align: right;\n",
       "    }\n",
       "</style>\n",
       "<table border=\"1\" class=\"dataframe\">\n",
       "  <thead>\n",
       "    <tr style=\"text-align: right;\">\n",
       "      <th></th>\n",
       "      <th>PassengerId</th>\n",
       "      <th>Survived</th>\n",
       "      <th>Pclass</th>\n",
       "      <th>Name</th>\n",
       "      <th>Sex</th>\n",
       "      <th>Age</th>\n",
       "      <th>SibSp</th>\n",
       "      <th>Parch</th>\n",
       "      <th>Ticket</th>\n",
       "      <th>Fare</th>\n",
       "      <th>Cabin</th>\n",
       "      <th>Embarked</th>\n",
       "    </tr>\n",
       "  </thead>\n",
       "  <tbody>\n",
       "    <tr>\n",
       "      <th>0</th>\n",
       "      <td>1</td>\n",
       "      <td>0</td>\n",
       "      <td>3</td>\n",
       "      <td>Braund, Mr. Owen Harris</td>\n",
       "      <td>male</td>\n",
       "      <td>22.0</td>\n",
       "      <td>1</td>\n",
       "      <td>0</td>\n",
       "      <td>A/5 21171</td>\n",
       "      <td>7.2500</td>\n",
       "      <td>NaN</td>\n",
       "      <td>S</td>\n",
       "    </tr>\n",
       "    <tr>\n",
       "      <th>1</th>\n",
       "      <td>2</td>\n",
       "      <td>1</td>\n",
       "      <td>1</td>\n",
       "      <td>Cumings, Mrs. John Bradley (Florence Briggs Th...</td>\n",
       "      <td>female</td>\n",
       "      <td>38.0</td>\n",
       "      <td>1</td>\n",
       "      <td>0</td>\n",
       "      <td>PC 17599</td>\n",
       "      <td>71.2833</td>\n",
       "      <td>C85</td>\n",
       "      <td>C</td>\n",
       "    </tr>\n",
       "    <tr>\n",
       "      <th>2</th>\n",
       "      <td>3</td>\n",
       "      <td>1</td>\n",
       "      <td>3</td>\n",
       "      <td>Heikkinen, Miss. Laina</td>\n",
       "      <td>female</td>\n",
       "      <td>26.0</td>\n",
       "      <td>0</td>\n",
       "      <td>0</td>\n",
       "      <td>STON/O2. 3101282</td>\n",
       "      <td>7.9250</td>\n",
       "      <td>NaN</td>\n",
       "      <td>S</td>\n",
       "    </tr>\n",
       "    <tr>\n",
       "      <th>3</th>\n",
       "      <td>4</td>\n",
       "      <td>1</td>\n",
       "      <td>1</td>\n",
       "      <td>Futrelle, Mrs. Jacques Heath (Lily May Peel)</td>\n",
       "      <td>female</td>\n",
       "      <td>35.0</td>\n",
       "      <td>1</td>\n",
       "      <td>0</td>\n",
       "      <td>113803</td>\n",
       "      <td>53.1000</td>\n",
       "      <td>C123</td>\n",
       "      <td>S</td>\n",
       "    </tr>\n",
       "    <tr>\n",
       "      <th>4</th>\n",
       "      <td>5</td>\n",
       "      <td>0</td>\n",
       "      <td>3</td>\n",
       "      <td>Allen, Mr. William Henry</td>\n",
       "      <td>male</td>\n",
       "      <td>35.0</td>\n",
       "      <td>0</td>\n",
       "      <td>0</td>\n",
       "      <td>373450</td>\n",
       "      <td>8.0500</td>\n",
       "      <td>NaN</td>\n",
       "      <td>S</td>\n",
       "    </tr>\n",
       "  </tbody>\n",
       "</table>\n",
       "</div>"
      ],
      "text/plain": [
       "   PassengerId  Survived  Pclass  \\\n",
       "0            1         0       3   \n",
       "1            2         1       1   \n",
       "2            3         1       3   \n",
       "3            4         1       1   \n",
       "4            5         0       3   \n",
       "\n",
       "                                                Name     Sex   Age  SibSp  \\\n",
       "0                            Braund, Mr. Owen Harris    male  22.0      1   \n",
       "1  Cumings, Mrs. John Bradley (Florence Briggs Th...  female  38.0      1   \n",
       "2                             Heikkinen, Miss. Laina  female  26.0      0   \n",
       "3       Futrelle, Mrs. Jacques Heath (Lily May Peel)  female  35.0      1   \n",
       "4                           Allen, Mr. William Henry    male  35.0      0   \n",
       "\n",
       "   Parch            Ticket     Fare Cabin Embarked  \n",
       "0      0         A/5 21171   7.2500   NaN        S  \n",
       "1      0          PC 17599  71.2833   C85        C  \n",
       "2      0  STON/O2. 3101282   7.9250   NaN        S  \n",
       "3      0            113803  53.1000  C123        S  \n",
       "4      0            373450   8.0500   NaN        S  "
      ]
     },
     "execution_count": 3,
     "metadata": {},
     "output_type": "execute_result"
    }
   ],
   "source": [
    "titanic_train.head()"
   ]
  },
  {
   "cell_type": "code",
   "execution_count": 4,
   "id": "3f680759",
   "metadata": {
    "execution": {
     "iopub.execute_input": "2023-01-30T16:52:56.950473Z",
     "iopub.status.busy": "2023-01-30T16:52:56.949882Z",
     "iopub.status.idle": "2023-01-30T16:52:56.979523Z",
     "shell.execute_reply": "2023-01-30T16:52:56.977680Z"
    },
    "id": "fefc59c2",
    "outputId": "13075dcd-ac38-458c-e979-ac2110b27cf8",
    "papermill": {
     "duration": 0.052028,
     "end_time": "2023-01-30T16:52:56.982494",
     "exception": false,
     "start_time": "2023-01-30T16:52:56.930466",
     "status": "completed"
    },
    "tags": []
   },
   "outputs": [
    {
     "name": "stdout",
     "output_type": "stream",
     "text": [
      "<class 'pandas.core.frame.DataFrame'>\n",
      "RangeIndex: 891 entries, 0 to 890\n",
      "Data columns (total 12 columns):\n",
      " #   Column       Non-Null Count  Dtype  \n",
      "---  ------       --------------  -----  \n",
      " 0   PassengerId  891 non-null    int64  \n",
      " 1   Survived     891 non-null    int64  \n",
      " 2   Pclass       891 non-null    int64  \n",
      " 3   Name         891 non-null    object \n",
      " 4   Sex          891 non-null    object \n",
      " 5   Age          714 non-null    float64\n",
      " 6   SibSp        891 non-null    int64  \n",
      " 7   Parch        891 non-null    int64  \n",
      " 8   Ticket       891 non-null    object \n",
      " 9   Fare         891 non-null    float64\n",
      " 10  Cabin        204 non-null    object \n",
      " 11  Embarked     889 non-null    object \n",
      "dtypes: float64(2), int64(5), object(5)\n",
      "memory usage: 83.7+ KB\n"
     ]
    }
   ],
   "source": [
    "titanic_train.info()"
   ]
  },
  {
   "cell_type": "code",
   "execution_count": 5,
   "id": "8c30f915",
   "metadata": {
    "execution": {
     "iopub.execute_input": "2023-01-30T16:52:57.021995Z",
     "iopub.status.busy": "2023-01-30T16:52:57.021039Z",
     "iopub.status.idle": "2023-01-30T16:52:57.037792Z",
     "shell.execute_reply": "2023-01-30T16:52:57.035855Z"
    },
    "id": "47b2f106",
    "outputId": "4f86e2bb-fb39-4074-f46e-e60dcfcae56a",
    "papermill": {
     "duration": 0.041294,
     "end_time": "2023-01-30T16:52:57.042542",
     "exception": false,
     "start_time": "2023-01-30T16:52:57.001248",
     "status": "completed"
    },
    "tags": []
   },
   "outputs": [
    {
     "name": "stdout",
     "output_type": "stream",
     "text": [
      "<class 'pandas.core.frame.DataFrame'>\n",
      "RangeIndex: 418 entries, 0 to 417\n",
      "Data columns (total 11 columns):\n",
      " #   Column       Non-Null Count  Dtype  \n",
      "---  ------       --------------  -----  \n",
      " 0   PassengerId  418 non-null    int64  \n",
      " 1   Pclass       418 non-null    int64  \n",
      " 2   Name         418 non-null    object \n",
      " 3   Sex          418 non-null    object \n",
      " 4   Age          332 non-null    float64\n",
      " 5   SibSp        418 non-null    int64  \n",
      " 6   Parch        418 non-null    int64  \n",
      " 7   Ticket       418 non-null    object \n",
      " 8   Fare         417 non-null    float64\n",
      " 9   Cabin        91 non-null     object \n",
      " 10  Embarked     418 non-null    object \n",
      "dtypes: float64(2), int64(4), object(5)\n",
      "memory usage: 36.0+ KB\n"
     ]
    }
   ],
   "source": [
    "titanic_test.info()"
   ]
  },
  {
   "cell_type": "markdown",
   "id": "74da1a4d",
   "metadata": {
    "id": "b801f001",
    "papermill": {
     "duration": 0.018002,
     "end_time": "2023-01-30T16:52:57.079863",
     "exception": false,
     "start_time": "2023-01-30T16:52:57.061861",
     "status": "completed"
    },
    "tags": []
   },
   "source": [
    "# Data Analysis"
   ]
  },
  {
   "cell_type": "markdown",
   "id": "47957f3a",
   "metadata": {
    "id": "43811dd3",
    "papermill": {
     "duration": 0.017835,
     "end_time": "2023-01-30T16:52:57.116449",
     "exception": false,
     "start_time": "2023-01-30T16:52:57.098614",
     "status": "completed"
    },
    "tags": []
   },
   "source": [
    "## Import Seaborn for visually analysing the data\n",
    "## Find out how many survived vs died using countplot method seaborn"
   ]
  },
  {
   "cell_type": "code",
   "execution_count": 6,
   "id": "90eeaac4",
   "metadata": {
    "execution": {
     "iopub.execute_input": "2023-01-30T16:52:57.154894Z",
     "iopub.status.busy": "2023-01-30T16:52:57.154407Z",
     "iopub.status.idle": "2023-01-30T16:52:57.160580Z",
     "shell.execute_reply": "2023-01-30T16:52:57.159154Z"
    },
    "id": "3570b71c",
    "papermill": {
     "duration": 0.028714,
     "end_time": "2023-01-30T16:52:57.163199",
     "exception": false,
     "start_time": "2023-01-30T16:52:57.134485",
     "status": "completed"
    },
    "tags": []
   },
   "outputs": [],
   "source": [
    "#countplot of survived vs not survived"
   ]
  },
  {
   "cell_type": "code",
   "execution_count": 7,
   "id": "9aed6368",
   "metadata": {
    "execution": {
     "iopub.execute_input": "2023-01-30T16:52:57.203918Z",
     "iopub.status.busy": "2023-01-30T16:52:57.203448Z",
     "iopub.status.idle": "2023-01-30T16:52:57.371547Z",
     "shell.execute_reply": "2023-01-30T16:52:57.369822Z"
    },
    "id": "c694b62c",
    "outputId": "beda925e-0b7c-4e46-a56c-0abfc1beb305",
    "papermill": {
     "duration": 0.191609,
     "end_time": "2023-01-30T16:52:57.374858",
     "exception": false,
     "start_time": "2023-01-30T16:52:57.183249",
     "status": "completed"
    },
    "tags": []
   },
   "outputs": [
    {
     "data": {
      "text/plain": [
       "<AxesSubplot:xlabel='Survived', ylabel='count'>"
      ]
     },
     "execution_count": 7,
     "metadata": {},
     "output_type": "execute_result"
    },
    {
     "data": {
      "image/png": "[encoded data removed]",
      "text/plain": [
       "<Figure size 432x288 with 1 Axes>"
      ]
     },
     "metadata": {
      "needs_background": "light"
     },
     "output_type": "display_data"
    }
   ],
   "source": [
    "sns.countplot(x='Survived', data=titanic_train)"
   ]
  },
  {
   "cell_type": "code",
   "execution_count": 8,
   "id": "50157d2a",
   "metadata": {
    "execution": {
     "iopub.execute_input": "2023-01-30T16:52:57.414688Z",
     "iopub.status.busy": "2023-01-30T16:52:57.414224Z",
     "iopub.status.idle": "2023-01-30T16:52:57.419693Z",
     "shell.execute_reply": "2023-01-30T16:52:57.418717Z"
    },
    "id": "c062cbef",
    "papermill": {
     "duration": 0.029301,
     "end_time": "2023-01-30T16:52:57.422797",
     "exception": false,
     "start_time": "2023-01-30T16:52:57.393496",
     "status": "completed"
    },
    "tags": []
   },
   "outputs": [],
   "source": [
    "#Male vs Female Survived"
   ]
  },
  {
   "cell_type": "code",
   "execution_count": 9,
   "id": "a85e7e65",
   "metadata": {
    "execution": {
     "iopub.execute_input": "2023-01-30T16:52:57.464993Z",
     "iopub.status.busy": "2023-01-30T16:52:57.464047Z",
     "iopub.status.idle": "2023-01-30T16:52:57.605099Z",
     "shell.execute_reply": "2023-01-30T16:52:57.604156Z"
    },
    "id": "4395d5fd",
    "outputId": "97b96a94-57f5-44b5-bf97-78e71b3eef45",
    "papermill": {
     "duration": 0.164857,
     "end_time": "2023-01-30T16:52:57.607705",
     "exception": false,
     "start_time": "2023-01-30T16:52:57.442848",
     "status": "completed"
    },
    "tags": []
   },
   "outputs": [
    {
     "data": {
      "text/plain": [
       "<AxesSubplot:xlabel='Survived', ylabel='count'>"
      ]
     },
     "execution_count": 9,
     "metadata": {},
     "output_type": "execute_result"
    },
    {
     "data": {
      "image/png": "[encoded data removed]",
      "text/plain": [
       "<Figure size 432x288 with 1 Axes>"
      ]
     },
     "metadata": {
      "needs_background": "light"
     },
     "output_type": "display_data"
    }
   ],
   "source": [
    "sns.countplot(x='Survived',data=titanic_train,hue='Sex')"
   ]
  },
  {
   "cell_type": "code",
   "execution_count": 10,
   "id": "60abb3f7",
   "metadata": {
    "execution": {
     "iopub.execute_input": "2023-01-30T16:52:57.647896Z",
     "iopub.status.busy": "2023-01-30T16:52:57.647023Z",
     "iopub.status.idle": "2023-01-30T16:52:57.656076Z",
     "shell.execute_reply": "2023-01-30T16:52:57.653995Z"
    },
    "id": "cf16454b",
    "papermill": {
     "duration": 0.032542,
     "end_time": "2023-01-30T16:52:57.659404",
     "exception": false,
     "start_time": "2023-01-30T16:52:57.626862",
     "status": "completed"
    },
    "tags": []
   },
   "outputs": [],
   "source": [
    "#check for null"
   ]
  },
  {
   "cell_type": "code",
   "execution_count": 11,
   "id": "c1a40069",
   "metadata": {
    "execution": {
     "iopub.execute_input": "2023-01-30T16:52:57.700017Z",
     "iopub.status.busy": "2023-01-30T16:52:57.699154Z",
     "iopub.status.idle": "2023-01-30T16:52:57.724292Z",
     "shell.execute_reply": "2023-01-30T16:52:57.723026Z"
    },
    "id": "02b4fec3",
    "outputId": "d6a33ffa-a348-4fe0-d6f3-f702bb754e88",
    "papermill": {
     "duration": 0.048145,
     "end_time": "2023-01-30T16:52:57.726738",
     "exception": false,
     "start_time": "2023-01-30T16:52:57.678593",
     "status": "completed"
    },
    "tags": []
   },
   "outputs": [
    {
     "data": {
      "text/html": [
       "<div>\n",
       "<style scoped>\n",
       "    .dataframe tbody tr th:only-of-type {\n",
       "        vertical-align: middle;\n",
       "    }\n",
       "\n",
       "    .dataframe tbody tr th {\n",
       "        vertical-align: top;\n",
       "    }\n",
       "\n",
       "    .dataframe thead th {\n",
       "        text-align: right;\n",
       "    }\n",
       "</style>\n",
       "<table border=\"1\" class=\"dataframe\">\n",
       "  <thead>\n",
       "    <tr style=\"text-align: right;\">\n",
       "      <th></th>\n",
       "      <th>PassengerId</th>\n",
       "      <th>Survived</th>\n",
       "      <th>Pclass</th>\n",
       "      <th>Name</th>\n",
       "      <th>Sex</th>\n",
       "      <th>Age</th>\n",
       "      <th>SibSp</th>\n",
       "      <th>Parch</th>\n",
       "      <th>Ticket</th>\n",
       "      <th>Fare</th>\n",
       "      <th>Cabin</th>\n",
       "      <th>Embarked</th>\n",
       "    </tr>\n",
       "  </thead>\n",
       "  <tbody>\n",
       "    <tr>\n",
       "      <th>0</th>\n",
       "      <td>False</td>\n",
       "      <td>False</td>\n",
       "      <td>False</td>\n",
       "      <td>False</td>\n",
       "      <td>False</td>\n",
       "      <td>False</td>\n",
       "      <td>False</td>\n",
       "      <td>False</td>\n",
       "      <td>False</td>\n",
       "      <td>False</td>\n",
       "      <td>True</td>\n",
       "      <td>False</td>\n",
       "    </tr>\n",
       "    <tr>\n",
       "      <th>1</th>\n",
       "      <td>False</td>\n",
       "      <td>False</td>\n",
       "      <td>False</td>\n",
       "      <td>False</td>\n",
       "      <td>False</td>\n",
       "      <td>False</td>\n",
       "      <td>False</td>\n",
       "      <td>False</td>\n",
       "      <td>False</td>\n",
       "      <td>False</td>\n",
       "      <td>False</td>\n",
       "      <td>False</td>\n",
       "    </tr>\n",
       "    <tr>\n",
       "      <th>2</th>\n",
       "      <td>False</td>\n",
       "      <td>False</td>\n",
       "      <td>False</td>\n",
       "      <td>False</td>\n",
       "      <td>False</td>\n",
       "      <td>False</td>\n",
       "      <td>False</td>\n",
       "      <td>False</td>\n",
       "      <td>False</td>\n",
       "      <td>False</td>\n",
       "      <td>True</td>\n",
       "      <td>False</td>\n",
       "    </tr>\n",
       "    <tr>\n",
       "      <th>3</th>\n",
       "      <td>False</td>\n",
       "      <td>False</td>\n",
       "      <td>False</td>\n",
       "      <td>False</td>\n",
       "      <td>False</td>\n",
       "      <td>False</td>\n",
       "      <td>False</td>\n",
       "      <td>False</td>\n",
       "      <td>False</td>\n",
       "      <td>False</td>\n",
       "      <td>False</td>\n",
       "      <td>False</td>\n",
       "    </tr>\n",
       "    <tr>\n",
       "      <th>4</th>\n",
       "      <td>False</td>\n",
       "      <td>False</td>\n",
       "      <td>False</td>\n",
       "      <td>False</td>\n",
       "      <td>False</td>\n",
       "      <td>False</td>\n",
       "      <td>False</td>\n",
       "      <td>False</td>\n",
       "      <td>False</td>\n",
       "      <td>False</td>\n",
       "      <td>True</td>\n",
       "      <td>False</td>\n",
       "    </tr>\n",
       "    <tr>\n",
       "      <th>...</th>\n",
       "      <td>...</td>\n",
       "      <td>...</td>\n",
       "      <td>...</td>\n",
       "      <td>...</td>\n",
       "      <td>...</td>\n",
       "      <td>...</td>\n",
       "      <td>...</td>\n",
       "      <td>...</td>\n",
       "      <td>...</td>\n",
       "      <td>...</td>\n",
       "      <td>...</td>\n",
       "      <td>...</td>\n",
       "    </tr>\n",
       "    <tr>\n",
       "      <th>886</th>\n",
       "      <td>False</td>\n",
       "      <td>False</td>\n",
       "      <td>False</td>\n",
       "      <td>False</td>\n",
       "      <td>False</td>\n",
       "      <td>False</td>\n",
       "      <td>False</td>\n",
       "      <td>False</td>\n",
       "      <td>False</td>\n",
       "      <td>False</td>\n",
       "      <td>True</td>\n",
       "      <td>False</td>\n",
       "    </tr>\n",
       "    <tr>\n",
       "      <th>887</th>\n",
       "      <td>False</td>\n",
       "      <td>False</td>\n",
       "      <td>False</td>\n",
       "      <td>False</td>\n",
       "      <td>False</td>\n",
       "      <td>False</td>\n",
       "      <td>False</td>\n",
       "      <td>False</td>\n",
       "      <td>False</td>\n",
       "      <td>False</td>\n",
       "      <td>False</td>\n",
       "      <td>False</td>\n",
       "    </tr>\n",
       "    <tr>\n",
       "      <th>888</th>\n",
       "      <td>False</td>\n",
       "      <td>False</td>\n",
       "      <td>False</td>\n",
       "      <td>False</td>\n",
       "      <td>False</td>\n",
       "      <td>True</td>\n",
       "      <td>False</td>\n",
       "      <td>False</td>\n",
       "      <td>False</td>\n",
       "      <td>False</td>\n",
       "      <td>True</td>\n",
       "      <td>False</td>\n",
       "    </tr>\n",
       "    <tr>\n",
       "      <th>889</th>\n",
       "      <td>False</td>\n",
       "      <td>False</td>\n",
       "      <td>False</td>\n",
       "      <td>False</td>\n",
       "      <td>False</td>\n",
       "      <td>False</td>\n",
       "      <td>False</td>\n",
       "      <td>False</td>\n",
       "      <td>False</td>\n",
       "      <td>False</td>\n",
       "      <td>False</td>\n",
       "      <td>False</td>\n",
       "    </tr>\n",
       "    <tr>\n",
       "      <th>890</th>\n",
       "      <td>False</td>\n",
       "      <td>False</td>\n",
       "      <td>False</td>\n",
       "      <td>False</td>\n",
       "      <td>False</td>\n",
       "      <td>False</td>\n",
       "      <td>False</td>\n",
       "      <td>False</td>\n",
       "      <td>False</td>\n",
       "      <td>False</td>\n",
       "      <td>True</td>\n",
       "      <td>False</td>\n",
       "    </tr>\n",
       "  </tbody>\n",
       "</table>\n",
       "<p>891 rows × 12 columns</p>\n",
       "</div>"
      ],
      "text/plain": [
       "     PassengerId  Survived  Pclass   Name    Sex    Age  SibSp  Parch  Ticket  \\\n",
       "0          False     False   False  False  False  False  False  False   False   \n",
       "1          False     False   False  False  False  False  False  False   False   \n",
       "2          False     False   False  False  False  False  False  False   False   \n",
       "3          False     False   False  False  False  False  False  False   False   \n",
       "4          False     False   False  False  False  False  False  False   False   \n",
       "..           ...       ...     ...    ...    ...    ...    ...    ...     ...   \n",
       "886        False     False   False  False  False  False  False  False   False   \n",
       "887        False     False   False  False  False  False  False  False   False   \n",
       "888        False     False   False  False  False   True  False  False   False   \n",
       "889        False     False   False  False  False  False  False  False   False   \n",
       "890        False     False   False  False  False  False  False  False   False   \n",
       "\n",
       "      Fare  Cabin  Embarked  \n",
       "0    False   True     False  \n",
       "1    False  False     False  \n",
       "2    False   True     False  \n",
       "3    False  False     False  \n",
       "4    False   True     False  \n",
       "..     ...    ...       ...  \n",
       "886  False   True     False  \n",
       "887  False  False     False  \n",
       "888  False   True     False  \n",
       "889  False  False     False  \n",
       "890  False   True     False  \n",
       "\n",
       "[891 rows x 12 columns]"
      ]
     },
     "execution_count": 11,
     "metadata": {},
     "output_type": "execute_result"
    }
   ],
   "source": [
    "titanic_train.isna()"
   ]
  },
  {
   "cell_type": "code",
   "execution_count": 12,
   "id": "a29a7fdc",
   "metadata": {
    "execution": {
     "iopub.execute_input": "2023-01-30T16:52:57.767316Z",
     "iopub.status.busy": "2023-01-30T16:52:57.766627Z",
     "iopub.status.idle": "2023-01-30T16:52:57.770753Z",
     "shell.execute_reply": "2023-01-30T16:52:57.769841Z"
    },
    "id": "e80ea754",
    "papermill": {
     "duration": 0.027284,
     "end_time": "2023-01-30T16:52:57.773213",
     "exception": false,
     "start_time": "2023-01-30T16:52:57.745929",
     "status": "completed"
    },
    "tags": []
   },
   "outputs": [],
   "source": [
    "#check how many values are null"
   ]
  },
  {
   "cell_type": "code",
   "execution_count": 13,
   "id": "9eb7df33",
   "metadata": {
    "execution": {
     "iopub.execute_input": "2023-01-30T16:52:57.814283Z",
     "iopub.status.busy": "2023-01-30T16:52:57.813518Z",
     "iopub.status.idle": "2023-01-30T16:52:57.823376Z",
     "shell.execute_reply": "2023-01-30T16:52:57.821920Z"
    },
    "id": "e31d75c0",
    "outputId": "72f3d637-2672-427b-c69d-5f7674aa3357",
    "papermill": {
     "duration": 0.033612,
     "end_time": "2023-01-30T16:52:57.826195",
     "exception": false,
     "start_time": "2023-01-30T16:52:57.792583",
     "status": "completed"
    },
    "tags": []
   },
   "outputs": [
    {
     "data": {
      "text/plain": [
       "PassengerId      0\n",
       "Survived         0\n",
       "Pclass           0\n",
       "Name             0\n",
       "Sex              0\n",
       "Age            177\n",
       "SibSp            0\n",
       "Parch            0\n",
       "Ticket           0\n",
       "Fare             0\n",
       "Cabin          687\n",
       "Embarked         2\n",
       "dtype: int64"
      ]
     },
     "execution_count": 13,
     "metadata": {},
     "output_type": "execute_result"
    }
   ],
   "source": [
    "titanic_train.isna().sum()"
   ]
  },
  {
   "cell_type": "code",
   "execution_count": 14,
   "id": "458c6b4b",
   "metadata": {
    "execution": {
     "iopub.execute_input": "2023-01-30T16:52:57.868082Z",
     "iopub.status.busy": "2023-01-30T16:52:57.867261Z",
     "iopub.status.idle": "2023-01-30T16:52:57.872150Z",
     "shell.execute_reply": "2023-01-30T16:52:57.871101Z"
    },
    "id": "fbf23c12",
    "papermill": {
     "duration": 0.028819,
     "end_time": "2023-01-30T16:52:57.874802",
     "exception": false,
     "start_time": "2023-01-30T16:52:57.845983",
     "status": "completed"
    },
    "tags": []
   },
   "outputs": [],
   "source": [
    "#Visualize null values"
   ]
  },
  {
   "cell_type": "code",
   "execution_count": 15,
   "id": "b43bf924",
   "metadata": {
    "execution": {
     "iopub.execute_input": "2023-01-30T16:52:57.916660Z",
     "iopub.status.busy": "2023-01-30T16:52:57.916180Z",
     "iopub.status.idle": "2023-01-30T16:52:58.331782Z",
     "shell.execute_reply": "2023-01-30T16:52:58.330352Z"
    },
    "id": "084129b9",
    "outputId": "450e0460-9aeb-4239-d0e8-367436c3e7fa",
    "papermill": {
     "duration": 0.440159,
     "end_time": "2023-01-30T16:52:58.334880",
     "exception": false,
     "start_time": "2023-01-30T16:52:57.894721",
     "status": "completed"
    },
    "tags": []
   },
   "outputs": [
    {
     "data": {
      "text/plain": [
       "<AxesSubplot:>"
      ]
     },
     "execution_count": 15,
     "metadata": {},
     "output_type": "execute_result"
    },
    {
     "data": {
      "image/png": "[encoded data removed]",
      "text/plain": [
       "<Figure size 432x288 with 2 Axes>"
      ]
     },
     "metadata": {
      "needs_background": "light"
     },
     "output_type": "display_data"
    }
   ],
   "source": [
    "sns.heatmap(titanic_train.isna())"
   ]
  },
  {
   "cell_type": "code",
   "execution_count": 16,
   "id": "4985e4de",
   "metadata": {
    "execution": {
     "iopub.execute_input": "2023-01-30T16:52:58.378913Z",
     "iopub.status.busy": "2023-01-30T16:52:58.377359Z",
     "iopub.status.idle": "2023-01-30T16:52:58.384201Z",
     "shell.execute_reply": "2023-01-30T16:52:58.382915Z"
    },
    "id": "0bc958e1",
    "papermill": {
     "duration": 0.031861,
     "end_time": "2023-01-30T16:52:58.387228",
     "exception": false,
     "start_time": "2023-01-30T16:52:58.355367",
     "status": "completed"
    },
    "tags": []
   },
   "outputs": [],
   "source": [
    "#find the % of null values in age column"
   ]
  },
  {
   "cell_type": "code",
   "execution_count": 17,
   "id": "74c00491",
   "metadata": {
    "execution": {
     "iopub.execute_input": "2023-01-30T16:52:58.438663Z",
     "iopub.status.busy": "2023-01-30T16:52:58.438004Z",
     "iopub.status.idle": "2023-01-30T16:52:58.447955Z",
     "shell.execute_reply": "2023-01-30T16:52:58.446674Z"
    },
    "id": "6c956f74",
    "outputId": "bd241d8d-b391-4a75-aacf-914b6ad4d326",
    "papermill": {
     "duration": 0.038192,
     "end_time": "2023-01-30T16:52:58.450555",
     "exception": false,
     "start_time": "2023-01-30T16:52:58.412363",
     "status": "completed"
    },
    "tags": []
   },
   "outputs": [
    {
     "data": {
      "text/plain": [
       "19.865319865319865"
      ]
     },
     "execution_count": 17,
     "metadata": {},
     "output_type": "execute_result"
    }
   ],
   "source": [
    "(titanic_train['Age'].isna().sum()/len(titanic_train['Age']))*100"
   ]
  },
  {
   "cell_type": "code",
   "execution_count": 18,
   "id": "60341fe8",
   "metadata": {
    "execution": {
     "iopub.execute_input": "2023-01-30T16:52:58.495413Z",
     "iopub.status.busy": "2023-01-30T16:52:58.493951Z",
     "iopub.status.idle": "2023-01-30T16:52:58.499835Z",
     "shell.execute_reply": "2023-01-30T16:52:58.498714Z"
    },
    "id": "fc5eb4b9",
    "papermill": {
     "duration": 0.030971,
     "end_time": "2023-01-30T16:52:58.502650",
     "exception": false,
     "start_time": "2023-01-30T16:52:58.471679",
     "status": "completed"
    },
    "tags": []
   },
   "outputs": [],
   "source": [
    "#find the % of null values in cabin column"
   ]
  },
  {
   "cell_type": "code",
   "execution_count": 19,
   "id": "af0ff8a8",
   "metadata": {
    "execution": {
     "iopub.execute_input": "2023-01-30T16:52:58.546504Z",
     "iopub.status.busy": "2023-01-30T16:52:58.545493Z",
     "iopub.status.idle": "2023-01-30T16:52:58.555323Z",
     "shell.execute_reply": "2023-01-30T16:52:58.554175Z"
    },
    "id": "870cc53a",
    "outputId": "bb300813-2876-4775-9fd7-a9a42f5bfda0",
    "papermill": {
     "duration": 0.034218,
     "end_time": "2023-01-30T16:52:58.557886",
     "exception": false,
     "start_time": "2023-01-30T16:52:58.523668",
     "status": "completed"
    },
    "tags": []
   },
   "outputs": [
    {
     "data": {
      "text/plain": [
       "77.10437710437711"
      ]
     },
     "execution_count": 19,
     "metadata": {},
     "output_type": "execute_result"
    }
   ],
   "source": [
    "(titanic_train['Cabin'].isna().sum()/len(titanic_train['Cabin']))*100"
   ]
  },
  {
   "cell_type": "code",
   "execution_count": 20,
   "id": "5b51343a",
   "metadata": {
    "execution": {
     "iopub.execute_input": "2023-01-30T16:52:58.605387Z",
     "iopub.status.busy": "2023-01-30T16:52:58.604811Z",
     "iopub.status.idle": "2023-01-30T16:52:58.609950Z",
     "shell.execute_reply": "2023-01-30T16:52:58.608649Z"
    },
    "id": "b8f61183",
    "papermill": {
     "duration": 0.032806,
     "end_time": "2023-01-30T16:52:58.612604",
     "exception": false,
     "start_time": "2023-01-30T16:52:58.579798",
     "status": "completed"
    },
    "tags": []
   },
   "outputs": [],
   "source": [
    "#find the distribution for the age column"
   ]
  },
  {
   "cell_type": "code",
   "execution_count": 21,
   "id": "9affe2ba",
   "metadata": {
    "execution": {
     "iopub.execute_input": "2023-01-30T16:52:58.657469Z",
     "iopub.status.busy": "2023-01-30T16:52:58.656396Z",
     "iopub.status.idle": "2023-01-30T16:52:59.002630Z",
     "shell.execute_reply": "2023-01-30T16:52:59.000975Z"
    },
    "id": "e80b00d7",
    "outputId": "ac400f28-df49-47bc-c412-750fe43d8c7f",
    "papermill": {
     "duration": 0.372799,
     "end_time": "2023-01-30T16:52:59.005583",
     "exception": false,
     "start_time": "2023-01-30T16:52:58.632784",
     "status": "completed"
    },
    "tags": []
   },
   "outputs": [
    {
     "data": {
      "text/plain": [
       "<seaborn.axisgrid.FacetGrid at 0x7f861efbb2d0>"
      ]
     },
     "execution_count": 21,
     "metadata": {},
     "output_type": "execute_result"
    },
    {
     "data": {
      "image/png": "[encoded data removed]",
      "text/plain": [
       "<Figure size 360x360 with 1 Axes>"
      ]
     },
     "metadata": {
      "needs_background": "light"
     },
     "output_type": "display_data"
    }
   ],
   "source": [
    "sns.displot(x='Age',data=titanic_train)"
   ]
  },
  {
   "cell_type": "code",
   "execution_count": 22,
   "id": "3d733e6c",
   "metadata": {
    "execution": {
     "iopub.execute_input": "2023-01-30T16:52:59.054433Z",
     "iopub.status.busy": "2023-01-30T16:52:59.053948Z",
     "iopub.status.idle": "2023-01-30T16:52:59.060562Z",
     "shell.execute_reply": "2023-01-30T16:52:59.058657Z"
    },
    "id": "6bff44a3",
    "papermill": {
     "duration": 0.038026,
     "end_time": "2023-01-30T16:52:59.065470",
     "exception": false,
     "start_time": "2023-01-30T16:52:59.027444",
     "status": "completed"
    },
    "tags": []
   },
   "outputs": [],
   "source": [
    "#checking null values for test data"
   ]
  },
  {
   "cell_type": "code",
   "execution_count": 23,
   "id": "7884488b",
   "metadata": {
    "execution": {
     "iopub.execute_input": "2023-01-30T16:52:59.110465Z",
     "iopub.status.busy": "2023-01-30T16:52:59.109984Z",
     "iopub.status.idle": "2023-01-30T16:52:59.122056Z",
     "shell.execute_reply": "2023-01-30T16:52:59.120048Z"
    },
    "id": "54480a4c",
    "outputId": "34b62253-6d31-41d1-f405-716cab5090b6",
    "papermill": {
     "duration": 0.037196,
     "end_time": "2023-01-30T16:52:59.124908",
     "exception": false,
     "start_time": "2023-01-30T16:52:59.087712",
     "status": "completed"
    },
    "tags": []
   },
   "outputs": [
    {
     "data": {
      "text/plain": [
       "PassengerId      0\n",
       "Pclass           0\n",
       "Name             0\n",
       "Sex              0\n",
       "Age             86\n",
       "SibSp            0\n",
       "Parch            0\n",
       "Ticket           0\n",
       "Fare             1\n",
       "Cabin          327\n",
       "Embarked         0\n",
       "dtype: int64"
      ]
     },
     "execution_count": 23,
     "metadata": {},
     "output_type": "execute_result"
    }
   ],
   "source": [
    "titanic_test.isna().sum()"
   ]
  },
  {
   "cell_type": "code",
   "execution_count": 24,
   "id": "405d17e8",
   "metadata": {
    "execution": {
     "iopub.execute_input": "2023-01-30T16:52:59.169189Z",
     "iopub.status.busy": "2023-01-30T16:52:59.168663Z",
     "iopub.status.idle": "2023-01-30T16:52:59.175443Z",
     "shell.execute_reply": "2023-01-30T16:52:59.173196Z"
    },
    "id": "7db45a07",
    "papermill": {
     "duration": 0.032012,
     "end_time": "2023-01-30T16:52:59.178349",
     "exception": false,
     "start_time": "2023-01-30T16:52:59.146337",
     "status": "completed"
    },
    "tags": []
   },
   "outputs": [],
   "source": [
    "#Visualize null values"
   ]
  },
  {
   "cell_type": "code",
   "execution_count": 25,
   "id": "c10958f9",
   "metadata": {
    "execution": {
     "iopub.execute_input": "2023-01-30T16:52:59.223728Z",
     "iopub.status.busy": "2023-01-30T16:52:59.223209Z",
     "iopub.status.idle": "2023-01-30T16:52:59.575533Z",
     "shell.execute_reply": "2023-01-30T16:52:59.574214Z"
    },
    "id": "213e7251",
    "outputId": "ff495fb2-7b50-4b1f-f0e5-bcd62b38c5c0",
    "papermill": {
     "duration": 0.377809,
     "end_time": "2023-01-30T16:52:59.578669",
     "exception": false,
     "start_time": "2023-01-30T16:52:59.200860",
     "status": "completed"
    },
    "tags": []
   },
   "outputs": [
    {
     "data": {
      "text/plain": [
       "<AxesSubplot:>"
      ]
     },
     "execution_count": 25,
     "metadata": {},
     "output_type": "execute_result"
    },
    {
     "data": {
      "image/png": "[encoded data removed]",
      "text/plain": [
       "<Figure size 432x288 with 2 Axes>"
      ]
     },
     "metadata": {
      "needs_background": "light"
     },
     "output_type": "display_data"
    }
   ],
   "source": [
    "sns.heatmap(titanic_test.isna())"
   ]
  },
  {
   "cell_type": "markdown",
   "id": "18284ccc",
   "metadata": {
    "id": "f3e8f832",
    "papermill": {
     "duration": 0.021179,
     "end_time": "2023-01-30T16:52:59.622057",
     "exception": false,
     "start_time": "2023-01-30T16:52:59.600878",
     "status": "completed"
    },
    "tags": []
   },
   "source": [
    "# Data Cleaning\n",
    "## Fill the missing Values\n",
    "We will fill the missing values for age. In order to fill missing values we use fillna() method.\n",
    "for now we will fill the missing age by taking average of all age"
   ]
  },
  {
   "cell_type": "code",
   "execution_count": 26,
   "id": "70009159",
   "metadata": {
    "execution": {
     "iopub.execute_input": "2023-01-30T16:52:59.666697Z",
     "iopub.status.busy": "2023-01-30T16:52:59.665891Z",
     "iopub.status.idle": "2023-01-30T16:52:59.670909Z",
     "shell.execute_reply": "2023-01-30T16:52:59.669380Z"
    },
    "id": "0d773cfb",
    "papermill": {
     "duration": 0.030903,
     "end_time": "2023-01-30T16:52:59.674064",
     "exception": false,
     "start_time": "2023-01-30T16:52:59.643161",
     "status": "completed"
    },
    "tags": []
   },
   "outputs": [],
   "source": [
    "#fill age"
   ]
  },
  {
   "cell_type": "code",
   "execution_count": 27,
   "id": "58c74d88",
   "metadata": {
    "execution": {
     "iopub.execute_input": "2023-01-30T16:52:59.720312Z",
     "iopub.status.busy": "2023-01-30T16:52:59.719847Z",
     "iopub.status.idle": "2023-01-30T16:52:59.728471Z",
     "shell.execute_reply": "2023-01-30T16:52:59.727183Z"
    },
    "id": "095dd4cf",
    "papermill": {
     "duration": 0.033757,
     "end_time": "2023-01-30T16:52:59.731007",
     "exception": false,
     "start_time": "2023-01-30T16:52:59.697250",
     "status": "completed"
    },
    "tags": []
   },
   "outputs": [],
   "source": [
    "titanic_train['Age'].fillna(titanic_train['Age'].mean(),inplace=True)\n",
    "titanic_test['Age'].fillna(titanic_test['Age'].mean(),inplace=True)"
   ]
  },
  {
   "cell_type": "code",
   "execution_count": 28,
   "id": "49fdf0bf",
   "metadata": {
    "execution": {
     "iopub.execute_input": "2023-01-30T16:52:59.776435Z",
     "iopub.status.busy": "2023-01-30T16:52:59.775968Z",
     "iopub.status.idle": "2023-01-30T16:52:59.783233Z",
     "shell.execute_reply": "2023-01-30T16:52:59.781908Z"
    },
    "id": "d6efe728",
    "papermill": {
     "duration": 0.033779,
     "end_time": "2023-01-30T16:52:59.786372",
     "exception": false,
     "start_time": "2023-01-30T16:52:59.752593",
     "status": "completed"
    },
    "tags": []
   },
   "outputs": [],
   "source": [
    "titanic_test['Fare'].fillna(titanic_test['Age'].mean(),inplace=True)"
   ]
  },
  {
   "cell_type": "code",
   "execution_count": 29,
   "id": "cbd38ae0",
   "metadata": {
    "execution": {
     "iopub.execute_input": "2023-01-30T16:52:59.830869Z",
     "iopub.status.busy": "2023-01-30T16:52:59.829921Z",
     "iopub.status.idle": "2023-01-30T16:52:59.842128Z",
     "shell.execute_reply": "2023-01-30T16:52:59.840830Z"
    },
    "id": "41976234",
    "outputId": "77455436-5544-457e-d736-3bc4afc69de6",
    "papermill": {
     "duration": 0.037071,
     "end_time": "2023-01-30T16:52:59.844617",
     "exception": false,
     "start_time": "2023-01-30T16:52:59.807546",
     "status": "completed"
    },
    "tags": []
   },
   "outputs": [
    {
     "data": {
      "text/plain": [
       "PassengerId      0\n",
       "Pclass           0\n",
       "Name             0\n",
       "Sex              0\n",
       "Age              0\n",
       "SibSp            0\n",
       "Parch            0\n",
       "Ticket           0\n",
       "Fare             0\n",
       "Cabin          327\n",
       "Embarked         0\n",
       "dtype: int64"
      ]
     },
     "execution_count": 29,
     "metadata": {},
     "output_type": "execute_result"
    }
   ],
   "source": [
    "titanic_test.isna().sum()"
   ]
  },
  {
   "cell_type": "code",
   "execution_count": 30,
   "id": "464ff680",
   "metadata": {
    "execution": {
     "iopub.execute_input": "2023-01-30T16:52:59.891132Z",
     "iopub.status.busy": "2023-01-30T16:52:59.890605Z",
     "iopub.status.idle": "2023-01-30T16:52:59.896339Z",
     "shell.execute_reply": "2023-01-30T16:52:59.894836Z"
    },
    "id": "8807be9f",
    "papermill": {
     "duration": 0.032601,
     "end_time": "2023-01-30T16:52:59.899326",
     "exception": false,
     "start_time": "2023-01-30T16:52:59.866725",
     "status": "completed"
    },
    "tags": []
   },
   "outputs": [],
   "source": [
    "#verify null value"
   ]
  },
  {
   "cell_type": "code",
   "execution_count": 31,
   "id": "02bcfb6d",
   "metadata": {
    "execution": {
     "iopub.execute_input": "2023-01-30T16:52:59.945358Z",
     "iopub.status.busy": "2023-01-30T16:52:59.944889Z",
     "iopub.status.idle": "2023-01-30T16:52:59.952923Z",
     "shell.execute_reply": "2023-01-30T16:52:59.951804Z"
    },
    "id": "ca346226",
    "outputId": "80d4adcd-66fc-4ca4-f522-f379aa4f61de",
    "papermill": {
     "duration": 0.033652,
     "end_time": "2023-01-30T16:52:59.955264",
     "exception": false,
     "start_time": "2023-01-30T16:52:59.921612",
     "status": "completed"
    },
    "tags": []
   },
   "outputs": [
    {
     "data": {
      "text/plain": [
       "0"
      ]
     },
     "execution_count": 31,
     "metadata": {},
     "output_type": "execute_result"
    }
   ],
   "source": [
    "titanic_train['Age'].isna().sum()"
   ]
  },
  {
   "cell_type": "code",
   "execution_count": 32,
   "id": "ea97effa",
   "metadata": {
    "execution": {
     "iopub.execute_input": "2023-01-30T16:53:00.001317Z",
     "iopub.status.busy": "2023-01-30T16:53:00.000841Z",
     "iopub.status.idle": "2023-01-30T16:53:00.009803Z",
     "shell.execute_reply": "2023-01-30T16:53:00.008473Z"
    },
    "id": "2a888296",
    "outputId": "9cbac74c-4922-41fb-bf4d-3f58867ea002",
    "papermill": {
     "duration": 0.035735,
     "end_time": "2023-01-30T16:53:00.012616",
     "exception": false,
     "start_time": "2023-01-30T16:52:59.976881",
     "status": "completed"
    },
    "tags": []
   },
   "outputs": [
    {
     "data": {
      "text/plain": [
       "0"
      ]
     },
     "execution_count": 32,
     "metadata": {},
     "output_type": "execute_result"
    }
   ],
   "source": [
    "titanic_test['Age'].isna().sum()"
   ]
  },
  {
   "cell_type": "markdown",
   "id": "5521e59d",
   "metadata": {
    "id": "e416325a",
    "papermill": {
     "duration": 0.022691,
     "end_time": "2023-01-30T16:53:00.057854",
     "exception": false,
     "start_time": "2023-01-30T16:53:00.035163",
     "status": "completed"
    },
    "tags": []
   },
   "source": [
    "## Alternatively we can visualize the null values using heatmap"
   ]
  },
  {
   "cell_type": "code",
   "execution_count": 33,
   "id": "c562d07e",
   "metadata": {
    "execution": {
     "iopub.execute_input": "2023-01-30T16:53:00.105885Z",
     "iopub.status.busy": "2023-01-30T16:53:00.105183Z",
     "iopub.status.idle": "2023-01-30T16:53:00.475084Z",
     "shell.execute_reply": "2023-01-30T16:53:00.473769Z"
    },
    "id": "33831f45",
    "outputId": "1e73ada1-a67b-486a-8be1-724f7e122f9b",
    "papermill": {
     "duration": 0.397303,
     "end_time": "2023-01-30T16:53:00.477927",
     "exception": false,
     "start_time": "2023-01-30T16:53:00.080624",
     "status": "completed"
    },
    "tags": []
   },
   "outputs": [
    {
     "data": {
      "text/plain": [
       "<AxesSubplot:>"
      ]
     },
     "execution_count": 33,
     "metadata": {},
     "output_type": "execute_result"
    },
    {
     "data": {
      "image/png": "[encoded data removed]",
      "text/plain": [
       "<Figure size 432x288 with 2 Axes>"
      ]
     },
     "metadata": {
      "needs_background": "light"
     },
     "output_type": "display_data"
    }
   ],
   "source": [
    "sns.heatmap(titanic_train.isna())"
   ]
  },
  {
   "cell_type": "code",
   "execution_count": 34,
   "id": "ac914c0d",
   "metadata": {
    "execution": {
     "iopub.execute_input": "2023-01-30T16:53:00.525844Z",
     "iopub.status.busy": "2023-01-30T16:53:00.525404Z",
     "iopub.status.idle": "2023-01-30T16:53:00.877108Z",
     "shell.execute_reply": "2023-01-30T16:53:00.875600Z"
    },
    "id": "0e3d7563",
    "outputId": "c378907d-88e3-4e07-f1e6-281bee71c902",
    "papermill": {
     "duration": 0.378938,
     "end_time": "2023-01-30T16:53:00.880062",
     "exception": false,
     "start_time": "2023-01-30T16:53:00.501124",
     "status": "completed"
    },
    "tags": []
   },
   "outputs": [
    {
     "data": {
      "text/plain": [
       "<AxesSubplot:>"
      ]
     },
     "execution_count": 34,
     "metadata": {},
     "output_type": "execute_result"
    },
    {
     "data": {
      "image/png": "[encoded data removed]",
      "text/plain": [
       "<Figure size 432x288 with 2 Axes>"
      ]
     },
     "metadata": {
      "needs_background": "light"
     },
     "output_type": "display_data"
    }
   ],
   "source": [
    "sns.heatmap(titanic_test.isna())"
   ]
  },
  {
   "cell_type": "markdown",
   "id": "5803be99",
   "metadata": {
    "id": "6dab8046",
    "papermill": {
     "duration": 0.023369,
     "end_time": "2023-01-30T16:53:00.927309",
     "exception": false,
     "start_time": "2023-01-30T16:53:00.903940",
     "status": "completed"
    },
    "tags": []
   },
   "source": [
    "## we can 'cabin' column has a number of values of null, so we can drop cabin column"
   ]
  },
  {
   "cell_type": "code",
   "execution_count": 35,
   "id": "9f371daa",
   "metadata": {
    "execution": {
     "iopub.execute_input": "2023-01-30T16:53:00.977627Z",
     "iopub.status.busy": "2023-01-30T16:53:00.977195Z",
     "iopub.status.idle": "2023-01-30T16:53:00.981973Z",
     "shell.execute_reply": "2023-01-30T16:53:00.980568Z"
    },
    "id": "81fa05dd",
    "papermill": {
     "duration": 0.033337,
     "end_time": "2023-01-30T16:53:00.984636",
     "exception": false,
     "start_time": "2023-01-30T16:53:00.951299",
     "status": "completed"
    },
    "tags": []
   },
   "outputs": [],
   "source": [
    "#drop cabin column"
   ]
  },
  {
   "cell_type": "code",
   "execution_count": 36,
   "id": "fcda52c8",
   "metadata": {
    "execution": {
     "iopub.execute_input": "2023-01-30T16:53:01.035469Z",
     "iopub.status.busy": "2023-01-30T16:53:01.034848Z",
     "iopub.status.idle": "2023-01-30T16:53:01.044867Z",
     "shell.execute_reply": "2023-01-30T16:53:01.043237Z"
    },
    "id": "65cbca49",
    "outputId": "285eccaa-21e0-4891-d997-f6da8d9d59a6",
    "papermill": {
     "duration": 0.039457,
     "end_time": "2023-01-30T16:53:01.047987",
     "exception": false,
     "start_time": "2023-01-30T16:53:01.008530",
     "status": "completed"
    },
    "tags": []
   },
   "outputs": [],
   "source": [
    "titanic_train.drop('Cabin',axis=1,inplace=True)\n",
    "titanic_test.drop('Cabin',axis=1,inplace=True)"
   ]
  },
  {
   "cell_type": "code",
   "execution_count": 37,
   "id": "a1a06304",
   "metadata": {
    "execution": {
     "iopub.execute_input": "2023-01-30T16:53:01.096501Z",
     "iopub.status.busy": "2023-01-30T16:53:01.096028Z",
     "iopub.status.idle": "2023-01-30T16:53:01.105790Z",
     "shell.execute_reply": "2023-01-30T16:53:01.104183Z"
    },
    "id": "38653227",
    "outputId": "549b36af-9c1a-4896-b20e-c1a8a3d0550f",
    "papermill": {
     "duration": 0.037211,
     "end_time": "2023-01-30T16:53:01.108608",
     "exception": false,
     "start_time": "2023-01-30T16:53:01.071397",
     "status": "completed"
    },
    "tags": []
   },
   "outputs": [
    {
     "data": {
      "text/plain": [
       "Index(['PassengerId', 'Pclass', 'Name', 'Sex', 'Age', 'SibSp', 'Parch',\n",
       "       'Ticket', 'Fare', 'Embarked'],\n",
       "      dtype='object')"
      ]
     },
     "execution_count": 37,
     "metadata": {},
     "output_type": "execute_result"
    }
   ],
   "source": [
    "titanic_test.columns"
   ]
  },
  {
   "cell_type": "code",
   "execution_count": 38,
   "id": "9fdcc173",
   "metadata": {
    "execution": {
     "iopub.execute_input": "2023-01-30T16:53:01.155945Z",
     "iopub.status.busy": "2023-01-30T16:53:01.155178Z",
     "iopub.status.idle": "2023-01-30T16:53:01.162162Z",
     "shell.execute_reply": "2023-01-30T16:53:01.160926Z"
    },
    "id": "59cc3ab6",
    "outputId": "5e038175-0c0c-4f48-d8e9-e8e32b5a3ac3",
    "papermill": {
     "duration": 0.0339,
     "end_time": "2023-01-30T16:53:01.164695",
     "exception": false,
     "start_time": "2023-01-30T16:53:01.130795",
     "status": "completed"
    },
    "tags": []
   },
   "outputs": [
    {
     "data": {
      "text/plain": [
       "Index(['PassengerId', 'Survived', 'Pclass', 'Name', 'Sex', 'Age', 'SibSp',\n",
       "       'Parch', 'Ticket', 'Fare', 'Embarked'],\n",
       "      dtype='object')"
      ]
     },
     "execution_count": 38,
     "metadata": {},
     "output_type": "execute_result"
    }
   ],
   "source": [
    "titanic_train.columns"
   ]
  },
  {
   "cell_type": "markdown",
   "id": "d588cc8c",
   "metadata": {
    "id": "f59de1ef",
    "papermill": {
     "duration": 0.022629,
     "end_time": "2023-01-30T16:53:01.209544",
     "exception": false,
     "start_time": "2023-01-30T16:53:01.186915",
     "status": "completed"
    },
    "tags": []
   },
   "source": [
    "# Featuring Data for model\n",
    "No we will require to convert all non-numerical columns to numeric.Please not this is required for feeding data into model."
   ]
  },
  {
   "cell_type": "code",
   "execution_count": 39,
   "id": "f2873fb0",
   "metadata": {
    "execution": {
     "iopub.execute_input": "2023-01-30T16:53:01.268892Z",
     "iopub.status.busy": "2023-01-30T16:53:01.267959Z",
     "iopub.status.idle": "2023-01-30T16:53:01.273897Z",
     "shell.execute_reply": "2023-01-30T16:53:01.272478Z"
    },
    "id": "9c4ea2ab",
    "papermill": {
     "duration": 0.040934,
     "end_time": "2023-01-30T16:53:01.276857",
     "exception": false,
     "start_time": "2023-01-30T16:53:01.235923",
     "status": "completed"
    },
    "tags": []
   },
   "outputs": [],
   "source": [
    "#checking non-numeric column"
   ]
  },
  {
   "cell_type": "code",
   "execution_count": 40,
   "id": "be4db855",
   "metadata": {
    "execution": {
     "iopub.execute_input": "2023-01-30T16:53:01.328083Z",
     "iopub.status.busy": "2023-01-30T16:53:01.327034Z",
     "iopub.status.idle": "2023-01-30T16:53:01.346050Z",
     "shell.execute_reply": "2023-01-30T16:53:01.344815Z"
    },
    "id": "1ce09fff",
    "outputId": "f4e040ef-4c5a-4fac-d108-61c9c63050aa",
    "papermill": {
     "duration": 0.047951,
     "end_time": "2023-01-30T16:53:01.349389",
     "exception": false,
     "start_time": "2023-01-30T16:53:01.301438",
     "status": "completed"
    },
    "tags": []
   },
   "outputs": [
    {
     "name": "stdout",
     "output_type": "stream",
     "text": [
      "<class 'pandas.core.frame.DataFrame'>\n",
      "RangeIndex: 891 entries, 0 to 890\n",
      "Data columns (total 11 columns):\n",
      " #   Column       Non-Null Count  Dtype  \n",
      "---  ------       --------------  -----  \n",
      " 0   PassengerId  891 non-null    int64  \n",
      " 1   Survived     891 non-null    int64  \n",
      " 2   Pclass       891 non-null    int64  \n",
      " 3   Name         891 non-null    object \n",
      " 4   Sex          891 non-null    object \n",
      " 5   Age          891 non-null    float64\n",
      " 6   SibSp        891 non-null    int64  \n",
      " 7   Parch        891 non-null    int64  \n",
      " 8   Ticket       891 non-null    object \n",
      " 9   Fare         891 non-null    float64\n",
      " 10  Embarked     889 non-null    object \n",
      "dtypes: float64(2), int64(5), object(4)\n",
      "memory usage: 76.7+ KB\n"
     ]
    }
   ],
   "source": [
    "titanic_train.info()"
   ]
  },
  {
   "cell_type": "code",
   "execution_count": 41,
   "id": "d4a31506",
   "metadata": {
    "execution": {
     "iopub.execute_input": "2023-01-30T16:53:01.404542Z",
     "iopub.status.busy": "2023-01-30T16:53:01.402936Z",
     "iopub.status.idle": "2023-01-30T16:53:01.412806Z",
     "shell.execute_reply": "2023-01-30T16:53:01.411687Z"
    },
    "id": "bdc55a4a",
    "outputId": "40e1024a-bac5-4f1e-9f6c-24c239907828",
    "papermill": {
     "duration": 0.038769,
     "end_time": "2023-01-30T16:53:01.415286",
     "exception": false,
     "start_time": "2023-01-30T16:53:01.376517",
     "status": "completed"
    },
    "tags": []
   },
   "outputs": [
    {
     "data": {
      "text/plain": [
       "PassengerId      int64\n",
       "Survived         int64\n",
       "Pclass           int64\n",
       "Name            object\n",
       "Sex             object\n",
       "Age            float64\n",
       "SibSp            int64\n",
       "Parch            int64\n",
       "Ticket          object\n",
       "Fare           float64\n",
       "Embarked        object\n",
       "dtype: object"
      ]
     },
     "execution_count": 41,
     "metadata": {},
     "output_type": "execute_result"
    }
   ],
   "source": [
    "titanic_train.dtypes"
   ]
  },
  {
   "cell_type": "code",
   "execution_count": 42,
   "id": "d5929a37",
   "metadata": {
    "execution": {
     "iopub.execute_input": "2023-01-30T16:53:01.465341Z",
     "iopub.status.busy": "2023-01-30T16:53:01.464904Z",
     "iopub.status.idle": "2023-01-30T16:53:01.474570Z",
     "shell.execute_reply": "2023-01-30T16:53:01.473171Z"
    },
    "id": "48bdac11",
    "outputId": "9b05730c-a5f0-40a1-c4f5-8cb8007dac7f",
    "papermill": {
     "duration": 0.037878,
     "end_time": "2023-01-30T16:53:01.477153",
     "exception": false,
     "start_time": "2023-01-30T16:53:01.439275",
     "status": "completed"
    },
    "tags": []
   },
   "outputs": [
    {
     "data": {
      "text/plain": [
       "PassengerId      int64\n",
       "Pclass           int64\n",
       "Name            object\n",
       "Sex             object\n",
       "Age            float64\n",
       "SibSp            int64\n",
       "Parch            int64\n",
       "Ticket          object\n",
       "Fare           float64\n",
       "Embarked        object\n",
       "dtype: object"
      ]
     },
     "execution_count": 42,
     "metadata": {},
     "output_type": "execute_result"
    }
   ],
   "source": [
    "titanic_test.dtypes"
   ]
  },
  {
   "cell_type": "markdown",
   "id": "2f8e8e2c",
   "metadata": {
    "id": "97c376e1",
    "papermill": {
     "duration": 0.022364,
     "end_time": "2023-01-30T16:53:01.522865",
     "exception": false,
     "start_time": "2023-01-30T16:53:01.500501",
     "status": "completed"
    },
    "tags": []
   },
   "source": [
    "## We can see 'Name', 'Sex', 'Ticket' and 'Embarked' are non-numerical. It seems Name,Embarked and Ticket number are not useful for machine learning prediction hence we will eventually drop these. Now we should convert 'Sex' into dummies numerical."
   ]
  },
  {
   "cell_type": "code",
   "execution_count": 43,
   "id": "2d1189c3",
   "metadata": {
    "execution": {
     "iopub.execute_input": "2023-01-30T16:53:01.572504Z",
     "iopub.status.busy": "2023-01-30T16:53:01.572022Z",
     "iopub.status.idle": "2023-01-30T16:53:01.576994Z",
     "shell.execute_reply": "2023-01-30T16:53:01.575760Z"
    },
    "id": "80e17734",
    "papermill": {
     "duration": 0.031476,
     "end_time": "2023-01-30T16:53:01.579344",
     "exception": false,
     "start_time": "2023-01-30T16:53:01.547868",
     "status": "completed"
    },
    "tags": []
   },
   "outputs": [],
   "source": [
    "#convert sex column to numerical values"
   ]
  },
  {
   "cell_type": "code",
   "execution_count": 44,
   "id": "04c1d723",
   "metadata": {
    "execution": {
     "iopub.execute_input": "2023-01-30T16:53:01.628403Z",
     "iopub.status.busy": "2023-01-30T16:53:01.627926Z",
     "iopub.status.idle": "2023-01-30T16:53:01.635397Z",
     "shell.execute_reply": "2023-01-30T16:53:01.634397Z"
    },
    "id": "dafb4c5a",
    "papermill": {
     "duration": 0.035061,
     "end_time": "2023-01-30T16:53:01.637991",
     "exception": false,
     "start_time": "2023-01-30T16:53:01.602930",
     "status": "completed"
    },
    "tags": []
   },
   "outputs": [],
   "source": [
    "gender = pd.get_dummies(titanic_train['Sex'],drop_first=True)\n",
    "titanic_train['Gender']=gender"
   ]
  },
  {
   "cell_type": "code",
   "execution_count": 45,
   "id": "2221578e",
   "metadata": {
    "execution": {
     "iopub.execute_input": "2023-01-30T16:53:01.686884Z",
     "iopub.status.busy": "2023-01-30T16:53:01.686433Z",
     "iopub.status.idle": "2023-01-30T16:53:01.694434Z",
     "shell.execute_reply": "2023-01-30T16:53:01.693024Z"
    },
    "id": "c6404801",
    "outputId": "6fa2e1ca-07bf-49da-f3cc-50cad10408e9",
    "papermill": {
     "duration": 0.034957,
     "end_time": "2023-01-30T16:53:01.697068",
     "exception": false,
     "start_time": "2023-01-30T16:53:01.662111",
     "status": "completed"
    },
    "tags": []
   },
   "outputs": [
    {
     "data": {
      "text/plain": [
       "Index(['PassengerId', 'Survived', 'Pclass', 'Name', 'Sex', 'Age', 'SibSp',\n",
       "       'Parch', 'Ticket', 'Fare', 'Embarked', 'Gender'],\n",
       "      dtype='object')"
      ]
     },
     "execution_count": 45,
     "metadata": {},
     "output_type": "execute_result"
    }
   ],
   "source": [
    "titanic_train.columns"
   ]
  },
  {
   "cell_type": "code",
   "execution_count": 46,
   "id": "55437599",
   "metadata": {
    "execution": {
     "iopub.execute_input": "2023-01-30T16:53:01.745510Z",
     "iopub.status.busy": "2023-01-30T16:53:01.745039Z",
     "iopub.status.idle": "2023-01-30T16:53:01.752970Z",
     "shell.execute_reply": "2023-01-30T16:53:01.751652Z"
    },
    "id": "0329607d",
    "papermill": {
     "duration": 0.034936,
     "end_time": "2023-01-30T16:53:01.755400",
     "exception": false,
     "start_time": "2023-01-30T16:53:01.720464",
     "status": "completed"
    },
    "tags": []
   },
   "outputs": [],
   "source": [
    "gender1 = pd.get_dummies(titanic_test['Sex'],drop_first=True)\n",
    "titanic_test['Gender']=gender1"
   ]
  },
  {
   "cell_type": "code",
   "execution_count": 47,
   "id": "986b3a63",
   "metadata": {
    "execution": {
     "iopub.execute_input": "2023-01-30T16:53:01.803013Z",
     "iopub.status.busy": "2023-01-30T16:53:01.802610Z",
     "iopub.status.idle": "2023-01-30T16:53:01.810415Z",
     "shell.execute_reply": "2023-01-30T16:53:01.809114Z"
    },
    "id": "157ad859",
    "outputId": "d2b01a25-773f-4298-8ef6-0817f8b1c054",
    "papermill": {
     "duration": 0.034801,
     "end_time": "2023-01-30T16:53:01.813020",
     "exception": false,
     "start_time": "2023-01-30T16:53:01.778219",
     "status": "completed"
    },
    "tags": []
   },
   "outputs": [
    {
     "data": {
      "text/plain": [
       "Index(['PassengerId', 'Pclass', 'Name', 'Sex', 'Age', 'SibSp', 'Parch',\n",
       "       'Ticket', 'Fare', 'Embarked', 'Gender'],\n",
       "      dtype='object')"
      ]
     },
     "execution_count": 47,
     "metadata": {},
     "output_type": "execute_result"
    }
   ],
   "source": [
    "titanic_test.columns"
   ]
  },
  {
   "cell_type": "code",
   "execution_count": 48,
   "id": "3a89cdf0",
   "metadata": {
    "execution": {
     "iopub.execute_input": "2023-01-30T16:53:01.860801Z",
     "iopub.status.busy": "2023-01-30T16:53:01.860383Z",
     "iopub.status.idle": "2023-01-30T16:53:01.865072Z",
     "shell.execute_reply": "2023-01-30T16:53:01.863856Z"
    },
    "id": "8722f07a",
    "papermill": {
     "duration": 0.031071,
     "end_time": "2023-01-30T16:53:01.867236",
     "exception": false,
     "start_time": "2023-01-30T16:53:01.836165",
     "status": "completed"
    },
    "tags": []
   },
   "outputs": [],
   "source": [
    "#drop the columns which are not required"
   ]
  },
  {
   "cell_type": "code",
   "execution_count": 49,
   "id": "e09da537",
   "metadata": {
    "execution": {
     "iopub.execute_input": "2023-01-30T16:53:01.915268Z",
     "iopub.status.busy": "2023-01-30T16:53:01.914784Z",
     "iopub.status.idle": "2023-01-30T16:53:01.922390Z",
     "shell.execute_reply": "2023-01-30T16:53:01.921020Z"
    },
    "id": "8ac00b3c",
    "outputId": "fdfbf4ad-82ac-4319-99bb-133932ed2d1d",
    "papermill": {
     "duration": 0.034333,
     "end_time": "2023-01-30T16:53:01.924663",
     "exception": false,
     "start_time": "2023-01-30T16:53:01.890330",
     "status": "completed"
    },
    "tags": []
   },
   "outputs": [],
   "source": [
    "titanic_train.drop(['Name','Sex','Ticket','Embarked'],axis=1,inplace=True)"
   ]
  },
  {
   "cell_type": "code",
   "execution_count": 50,
   "id": "b130a739",
   "metadata": {
    "execution": {
     "iopub.execute_input": "2023-01-30T16:53:01.971954Z",
     "iopub.status.busy": "2023-01-30T16:53:01.971538Z",
     "iopub.status.idle": "2023-01-30T16:53:01.977834Z",
     "shell.execute_reply": "2023-01-30T16:53:01.976638Z"
    },
    "id": "f774535b",
    "papermill": {
     "duration": 0.032928,
     "end_time": "2023-01-30T16:53:01.980245",
     "exception": false,
     "start_time": "2023-01-30T16:53:01.947317",
     "status": "completed"
    },
    "tags": []
   },
   "outputs": [],
   "source": [
    "titanic_test.drop(['Name','Sex','Ticket','Embarked'],axis=1,inplace=True)"
   ]
  },
  {
   "cell_type": "code",
   "execution_count": 51,
   "id": "473baf3f",
   "metadata": {
    "execution": {
     "iopub.execute_input": "2023-01-30T16:53:02.028426Z",
     "iopub.status.busy": "2023-01-30T16:53:02.027547Z",
     "iopub.status.idle": "2023-01-30T16:53:02.042445Z",
     "shell.execute_reply": "2023-01-30T16:53:02.041371Z"
    },
    "id": "838a1b83",
    "outputId": "3bca81f5-acc5-4915-a1a0-01d215b9287e",
    "papermill": {
     "duration": 0.041786,
     "end_time": "2023-01-30T16:53:02.044759",
     "exception": false,
     "start_time": "2023-01-30T16:53:02.002973",
     "status": "completed"
    },
    "tags": []
   },
   "outputs": [
    {
     "data": {
      "text/html": [
       "<div>\n",
       "<style scoped>\n",
       "    .dataframe tbody tr th:only-of-type {\n",
       "        vertical-align: middle;\n",
       "    }\n",
       "\n",
       "    .dataframe tbody tr th {\n",
       "        vertical-align: top;\n",
       "    }\n",
       "\n",
       "    .dataframe thead th {\n",
       "        text-align: right;\n",
       "    }\n",
       "</style>\n",
       "<table border=\"1\" class=\"dataframe\">\n",
       "  <thead>\n",
       "    <tr style=\"text-align: right;\">\n",
       "      <th></th>\n",
       "      <th>PassengerId</th>\n",
       "      <th>Survived</th>\n",
       "      <th>Pclass</th>\n",
       "      <th>Age</th>\n",
       "      <th>SibSp</th>\n",
       "      <th>Parch</th>\n",
       "      <th>Fare</th>\n",
       "      <th>Gender</th>\n",
       "    </tr>\n",
       "  </thead>\n",
       "  <tbody>\n",
       "    <tr>\n",
       "      <th>0</th>\n",
       "      <td>1</td>\n",
       "      <td>0</td>\n",
       "      <td>3</td>\n",
       "      <td>22.0</td>\n",
       "      <td>1</td>\n",
       "      <td>0</td>\n",
       "      <td>7.2500</td>\n",
       "      <td>1</td>\n",
       "    </tr>\n",
       "    <tr>\n",
       "      <th>1</th>\n",
       "      <td>2</td>\n",
       "      <td>1</td>\n",
       "      <td>1</td>\n",
       "      <td>38.0</td>\n",
       "      <td>1</td>\n",
       "      <td>0</td>\n",
       "      <td>71.2833</td>\n",
       "      <td>0</td>\n",
       "    </tr>\n",
       "    <tr>\n",
       "      <th>2</th>\n",
       "      <td>3</td>\n",
       "      <td>1</td>\n",
       "      <td>3</td>\n",
       "      <td>26.0</td>\n",
       "      <td>0</td>\n",
       "      <td>0</td>\n",
       "      <td>7.9250</td>\n",
       "      <td>0</td>\n",
       "    </tr>\n",
       "    <tr>\n",
       "      <th>3</th>\n",
       "      <td>4</td>\n",
       "      <td>1</td>\n",
       "      <td>1</td>\n",
       "      <td>35.0</td>\n",
       "      <td>1</td>\n",
       "      <td>0</td>\n",
       "      <td>53.1000</td>\n",
       "      <td>0</td>\n",
       "    </tr>\n",
       "    <tr>\n",
       "      <th>4</th>\n",
       "      <td>5</td>\n",
       "      <td>0</td>\n",
       "      <td>3</td>\n",
       "      <td>35.0</td>\n",
       "      <td>0</td>\n",
       "      <td>0</td>\n",
       "      <td>8.0500</td>\n",
       "      <td>1</td>\n",
       "    </tr>\n",
       "  </tbody>\n",
       "</table>\n",
       "</div>"
      ],
      "text/plain": [
       "   PassengerId  Survived  Pclass   Age  SibSp  Parch     Fare  Gender\n",
       "0            1         0       3  22.0      1      0   7.2500       1\n",
       "1            2         1       1  38.0      1      0  71.2833       0\n",
       "2            3         1       3  26.0      0      0   7.9250       0\n",
       "3            4         1       1  35.0      1      0  53.1000       0\n",
       "4            5         0       3  35.0      0      0   8.0500       1"
      ]
     },
     "execution_count": 51,
     "metadata": {},
     "output_type": "execute_result"
    }
   ],
   "source": [
    "titanic_train.head()"
   ]
  },
  {
   "cell_type": "code",
   "execution_count": 52,
   "id": "bb2e6a55",
   "metadata": {
    "execution": {
     "iopub.execute_input": "2023-01-30T16:53:02.092766Z",
     "iopub.status.busy": "2023-01-30T16:53:02.092323Z",
     "iopub.status.idle": "2023-01-30T16:53:02.107872Z",
     "shell.execute_reply": "2023-01-30T16:53:02.106350Z"
    },
    "id": "040a8c11",
    "outputId": "fc335146-541d-49b8-92e2-cb1aac00f453",
    "papermill": {
     "duration": 0.042782,
     "end_time": "2023-01-30T16:53:02.110599",
     "exception": false,
     "start_time": "2023-01-30T16:53:02.067817",
     "status": "completed"
    },
    "tags": []
   },
   "outputs": [
    {
     "data": {
      "text/html": [
       "<div>\n",
       "<style scoped>\n",
       "    .dataframe tbody tr th:only-of-type {\n",
       "        vertical-align: middle;\n",
       "    }\n",
       "\n",
       "    .dataframe tbody tr th {\n",
       "        vertical-align: top;\n",
       "    }\n",
       "\n",
       "    .dataframe thead th {\n",
       "        text-align: right;\n",
       "    }\n",
       "</style>\n",
       "<table border=\"1\" class=\"dataframe\">\n",
       "  <thead>\n",
       "    <tr style=\"text-align: right;\">\n",
       "      <th></th>\n",
       "      <th>PassengerId</th>\n",
       "      <th>Pclass</th>\n",
       "      <th>Age</th>\n",
       "      <th>SibSp</th>\n",
       "      <th>Parch</th>\n",
       "      <th>Fare</th>\n",
       "      <th>Gender</th>\n",
       "    </tr>\n",
       "  </thead>\n",
       "  <tbody>\n",
       "    <tr>\n",
       "      <th>0</th>\n",
       "      <td>892</td>\n",
       "      <td>3</td>\n",
       "      <td>34.5</td>\n",
       "      <td>0</td>\n",
       "      <td>0</td>\n",
       "      <td>7.8292</td>\n",
       "      <td>1</td>\n",
       "    </tr>\n",
       "    <tr>\n",
       "      <th>1</th>\n",
       "      <td>893</td>\n",
       "      <td>3</td>\n",
       "      <td>47.0</td>\n",
       "      <td>1</td>\n",
       "      <td>0</td>\n",
       "      <td>7.0000</td>\n",
       "      <td>0</td>\n",
       "    </tr>\n",
       "    <tr>\n",
       "      <th>2</th>\n",
       "      <td>894</td>\n",
       "      <td>2</td>\n",
       "      <td>62.0</td>\n",
       "      <td>0</td>\n",
       "      <td>0</td>\n",
       "      <td>9.6875</td>\n",
       "      <td>1</td>\n",
       "    </tr>\n",
       "    <tr>\n",
       "      <th>3</th>\n",
       "      <td>895</td>\n",
       "      <td>3</td>\n",
       "      <td>27.0</td>\n",
       "      <td>0</td>\n",
       "      <td>0</td>\n",
       "      <td>8.6625</td>\n",
       "      <td>1</td>\n",
       "    </tr>\n",
       "    <tr>\n",
       "      <th>4</th>\n",
       "      <td>896</td>\n",
       "      <td>3</td>\n",
       "      <td>22.0</td>\n",
       "      <td>1</td>\n",
       "      <td>1</td>\n",
       "      <td>12.2875</td>\n",
       "      <td>0</td>\n",
       "    </tr>\n",
       "  </tbody>\n",
       "</table>\n",
       "</div>"
      ],
      "text/plain": [
       "   PassengerId  Pclass   Age  SibSp  Parch     Fare  Gender\n",
       "0          892       3  34.5      0      0   7.8292       1\n",
       "1          893       3  47.0      1      0   7.0000       0\n",
       "2          894       2  62.0      0      0   9.6875       1\n",
       "3          895       3  27.0      0      0   8.6625       1\n",
       "4          896       3  22.0      1      1  12.2875       0"
      ]
     },
     "execution_count": 52,
     "metadata": {},
     "output_type": "execute_result"
    }
   ],
   "source": [
    "titanic_test.head()"
   ]
  },
  {
   "cell_type": "code",
   "execution_count": 53,
   "id": "d8364f6e",
   "metadata": {
    "execution": {
     "iopub.execute_input": "2023-01-30T16:53:02.159981Z",
     "iopub.status.busy": "2023-01-30T16:53:02.159241Z",
     "iopub.status.idle": "2023-01-30T16:53:02.164594Z",
     "shell.execute_reply": "2023-01-30T16:53:02.163318Z"
    },
    "id": "95783e86",
    "papermill": {
     "duration": 0.033151,
     "end_time": "2023-01-30T16:53:02.167319",
     "exception": false,
     "start_time": "2023-01-30T16:53:02.134168",
     "status": "completed"
    },
    "tags": []
   },
   "outputs": [],
   "source": [
    "#Separate dependent and independent variable"
   ]
  },
  {
   "cell_type": "code",
   "execution_count": 54,
   "id": "f53a5a10",
   "metadata": {
    "execution": {
     "iopub.execute_input": "2023-01-30T16:53:02.215956Z",
     "iopub.status.busy": "2023-01-30T16:53:02.215531Z",
     "iopub.status.idle": "2023-01-30T16:53:02.224815Z",
     "shell.execute_reply": "2023-01-30T16:53:02.223536Z"
    },
    "id": "a17702a1",
    "papermill": {
     "duration": 0.036614,
     "end_time": "2023-01-30T16:53:02.227287",
     "exception": false,
     "start_time": "2023-01-30T16:53:02.190673",
     "status": "completed"
    },
    "tags": []
   },
   "outputs": [],
   "source": [
    "x=titanic_train[['Pclass','Age','SibSp','Parch','Fare','Gender']]\n",
    "y=titanic_train[['Survived']]\n",
    "test=titanic_test[['Pclass','Age','SibSp','Parch','Fare','Gender']]"
   ]
  },
  {
   "cell_type": "code",
   "execution_count": 55,
   "id": "8e19967a",
   "metadata": {
    "execution": {
     "iopub.execute_input": "2023-01-30T16:53:02.276079Z",
     "iopub.status.busy": "2023-01-30T16:53:02.275667Z",
     "iopub.status.idle": "2023-01-30T16:53:02.286593Z",
     "shell.execute_reply": "2023-01-30T16:53:02.285288Z"
    },
    "id": "cb36e7d7",
    "outputId": "03a8fe34-7bc5-4156-c1a9-1757c113df6f",
    "papermill": {
     "duration": 0.038942,
     "end_time": "2023-01-30T16:53:02.289604",
     "exception": false,
     "start_time": "2023-01-30T16:53:02.250662",
     "status": "completed"
    },
    "tags": []
   },
   "outputs": [
    {
     "data": {
      "text/plain": [
       "Pclass    0\n",
       "Age       0\n",
       "SibSp     0\n",
       "Parch     0\n",
       "Fare      0\n",
       "Gender    0\n",
       "dtype: int64"
      ]
     },
     "execution_count": 55,
     "metadata": {},
     "output_type": "execute_result"
    }
   ],
   "source": [
    "x.isna().sum()"
   ]
  },
  {
   "cell_type": "code",
   "execution_count": 56,
   "id": "d34307a0",
   "metadata": {
    "execution": {
     "iopub.execute_input": "2023-01-30T16:53:02.338318Z",
     "iopub.status.busy": "2023-01-30T16:53:02.337864Z",
     "iopub.status.idle": "2023-01-30T16:53:02.347746Z",
     "shell.execute_reply": "2023-01-30T16:53:02.346519Z"
    },
    "id": "fc02fcad",
    "outputId": "77e53cd9-9607-4251-d435-3eb1b47a40b8",
    "papermill": {
     "duration": 0.037348,
     "end_time": "2023-01-30T16:53:02.350162",
     "exception": false,
     "start_time": "2023-01-30T16:53:02.312814",
     "status": "completed"
    },
    "tags": []
   },
   "outputs": [
    {
     "data": {
      "text/plain": [
       "Pclass    0\n",
       "Age       0\n",
       "SibSp     0\n",
       "Parch     0\n",
       "Fare      0\n",
       "Gender    0\n",
       "dtype: int64"
      ]
     },
     "execution_count": 56,
     "metadata": {},
     "output_type": "execute_result"
    }
   ],
   "source": [
    "test.isna().sum()"
   ]
  },
  {
   "cell_type": "markdown",
   "id": "2a3b19dd",
   "metadata": {
    "id": "a5c72768",
    "papermill": {
     "duration": 0.023297,
     "end_time": "2023-01-30T16:53:02.397532",
     "exception": false,
     "start_time": "2023-01-30T16:53:02.374235",
     "status": "completed"
    },
    "tags": []
   },
   "source": [
    "# Data Modelling\n",
    "## Building Model using Logistic Regression"
   ]
  },
  {
   "cell_type": "code",
   "execution_count": 57,
   "id": "015a5fc3",
   "metadata": {
    "execution": {
     "iopub.execute_input": "2023-01-30T16:53:02.446463Z",
     "iopub.status.busy": "2023-01-30T16:53:02.446012Z",
     "iopub.status.idle": "2023-01-30T16:53:02.451136Z",
     "shell.execute_reply": "2023-01-30T16:53:02.449805Z"
    },
    "id": "d2fecaf4",
    "papermill": {
     "duration": 0.032363,
     "end_time": "2023-01-30T16:53:02.453397",
     "exception": false,
     "start_time": "2023-01-30T16:53:02.421034",
     "status": "completed"
    },
    "tags": []
   },
   "outputs": [],
   "source": [
    "#import train test split method"
   ]
  },
  {
   "cell_type": "code",
   "execution_count": 58,
   "id": "a88c1a03",
   "metadata": {
    "execution": {
     "iopub.execute_input": "2023-01-30T16:53:02.502583Z",
     "iopub.status.busy": "2023-01-30T16:53:02.502010Z",
     "iopub.status.idle": "2023-01-30T16:53:02.735668Z",
     "shell.execute_reply": "2023-01-30T16:53:02.734420Z"
    },
    "id": "be8148e0",
    "papermill": {
     "duration": 0.26192,
     "end_time": "2023-01-30T16:53:02.738783",
     "exception": false,
     "start_time": "2023-01-30T16:53:02.476863",
     "status": "completed"
    },
    "tags": []
   },
   "outputs": [],
   "source": [
    "from sklearn.model_selection import train_test_split"
   ]
  },
  {
   "cell_type": "code",
   "execution_count": null,
   "id": "2429211a",
   "metadata": {
    "papermill": {
     "duration": 0.02393,
     "end_time": "2023-01-30T16:53:02.787155",
     "exception": false,
     "start_time": "2023-01-30T16:53:02.763225",
     "status": "completed"
    },
    "tags": []
   },
   "outputs": [],
   "source": []
  },
  {
   "cell_type": "code",
   "execution_count": 59,
   "id": "38fe94a4",
   "metadata": {
    "execution": {
     "iopub.execute_input": "2023-01-30T16:53:02.837555Z",
     "iopub.status.busy": "2023-01-30T16:53:02.837135Z",
     "iopub.status.idle": "2023-01-30T16:53:02.852458Z",
     "shell.execute_reply": "2023-01-30T16:53:02.851245Z"
    },
    "id": "575a31c1",
    "papermill": {
     "duration": 0.044115,
     "end_time": "2023-01-30T16:53:02.855244",
     "exception": false,
     "start_time": "2023-01-30T16:53:02.811129",
     "status": "completed"
    },
    "tags": []
   },
   "outputs": [],
   "source": [
    "x_train, x_test, y_train, y_test = train_test_split(x, y, test_size=0.33, random_state=42)"
   ]
  },
  {
   "cell_type": "code",
   "execution_count": 60,
   "id": "308eac0a",
   "metadata": {
    "execution": {
     "iopub.execute_input": "2023-01-30T16:53:02.905450Z",
     "iopub.status.busy": "2023-01-30T16:53:02.904443Z",
     "iopub.status.idle": "2023-01-30T16:53:02.910275Z",
     "shell.execute_reply": "2023-01-30T16:53:02.909018Z"
    },
    "id": "ba2b8723",
    "papermill": {
     "duration": 0.033894,
     "end_time": "2023-01-30T16:53:02.913053",
     "exception": false,
     "start_time": "2023-01-30T16:53:02.879159",
     "status": "completed"
    },
    "tags": []
   },
   "outputs": [],
   "source": [
    "#import Logistic Regression"
   ]
  },
  {
   "cell_type": "code",
   "execution_count": 61,
   "id": "d19ce556",
   "metadata": {
    "execution": {
     "iopub.execute_input": "2023-01-30T16:53:02.963590Z",
     "iopub.status.busy": "2023-01-30T16:53:02.962314Z",
     "iopub.status.idle": "2023-01-30T16:53:03.066769Z",
     "shell.execute_reply": "2023-01-30T16:53:03.064855Z"
    },
    "id": "1a94b6d0",
    "papermill": {
     "duration": 0.132973,
     "end_time": "2023-01-30T16:53:03.070190",
     "exception": false,
     "start_time": "2023-01-30T16:53:02.937217",
     "status": "completed"
    },
    "tags": []
   },
   "outputs": [],
   "source": [
    "from sklearn.linear_model import LogisticRegression"
   ]
  },
  {
   "cell_type": "code",
   "execution_count": 62,
   "id": "a26b2335",
   "metadata": {
    "execution": {
     "iopub.execute_input": "2023-01-30T16:53:03.120831Z",
     "iopub.status.busy": "2023-01-30T16:53:03.120348Z",
     "iopub.status.idle": "2023-01-30T16:53:03.126668Z",
     "shell.execute_reply": "2023-01-30T16:53:03.125248Z"
    },
    "id": "0809e625",
    "papermill": {
     "duration": 0.034894,
     "end_time": "2023-01-30T16:53:03.129445",
     "exception": false,
     "start_time": "2023-01-30T16:53:03.094551",
     "status": "completed"
    },
    "tags": []
   },
   "outputs": [],
   "source": [
    "#Fit Logistic Regression"
   ]
  },
  {
   "cell_type": "code",
   "execution_count": 63,
   "id": "8595c303",
   "metadata": {
    "execution": {
     "iopub.execute_input": "2023-01-30T16:53:03.179033Z",
     "iopub.status.busy": "2023-01-30T16:53:03.178581Z",
     "iopub.status.idle": "2023-01-30T16:53:03.184207Z",
     "shell.execute_reply": "2023-01-30T16:53:03.182774Z"
    },
    "id": "0dd99a1e",
    "papermill": {
     "duration": 0.033721,
     "end_time": "2023-01-30T16:53:03.187005",
     "exception": false,
     "start_time": "2023-01-30T16:53:03.153284",
     "status": "completed"
    },
    "tags": []
   },
   "outputs": [],
   "source": [
    "lr=LogisticRegression()"
   ]
  },
  {
   "cell_type": "code",
   "execution_count": 64,
   "id": "9c32cf00",
   "metadata": {
    "execution": {
     "iopub.execute_input": "2023-01-30T16:53:03.240112Z",
     "iopub.status.busy": "2023-01-30T16:53:03.239634Z",
     "iopub.status.idle": "2023-01-30T16:53:03.288172Z",
     "shell.execute_reply": "2023-01-30T16:53:03.286308Z"
    },
    "id": "3f8d1bce",
    "outputId": "71976e9d-7f5f-4929-e7f1-e0c4b86f647a",
    "papermill": {
     "duration": 0.080235,
     "end_time": "2023-01-30T16:53:03.291597",
     "exception": false,
     "start_time": "2023-01-30T16:53:03.211362",
     "status": "completed"
    },
    "tags": []
   },
   "outputs": [
    {
     "name": "stderr",
     "output_type": "stream",
     "text": [
      "/opt/conda/lib/python3.7/site-packages/sklearn/utils/validation.py:993: DataConversionWarning: A column-vector y was passed when a 1d array was expected. Please change the shape of y to (n_samples, ), for example using ravel().\n",
      "  y = column_or_1d(y, warn=True)\n"
     ]
    },
    {
     "data": {
      "text/plain": [
       "LogisticRegression()"
      ]
     },
     "execution_count": 64,
     "metadata": {},
     "output_type": "execute_result"
    }
   ],
   "source": [
    "lr.fit(x,y)"
   ]
  },
  {
   "cell_type": "code",
   "execution_count": 65,
   "id": "8b15e240",
   "metadata": {
    "execution": {
     "iopub.execute_input": "2023-01-30T16:53:03.343249Z",
     "iopub.status.busy": "2023-01-30T16:53:03.342805Z",
     "iopub.status.idle": "2023-01-30T16:53:03.348551Z",
     "shell.execute_reply": "2023-01-30T16:53:03.346829Z"
    },
    "id": "adcd84f2",
    "papermill": {
     "duration": 0.03486,
     "end_time": "2023-01-30T16:53:03.351484",
     "exception": false,
     "start_time": "2023-01-30T16:53:03.316624",
     "status": "completed"
    },
    "tags": []
   },
   "outputs": [],
   "source": [
    "#predict"
   ]
  },
  {
   "cell_type": "code",
   "execution_count": 66,
   "id": "93a94876",
   "metadata": {
    "execution": {
     "iopub.execute_input": "2023-01-30T16:53:03.402994Z",
     "iopub.status.busy": "2023-01-30T16:53:03.402567Z",
     "iopub.status.idle": "2023-01-30T16:53:03.410818Z",
     "shell.execute_reply": "2023-01-30T16:53:03.409433Z"
    },
    "id": "a41512aa",
    "papermill": {
     "duration": 0.037205,
     "end_time": "2023-01-30T16:53:03.413575",
     "exception": false,
     "start_time": "2023-01-30T16:53:03.376370",
     "status": "completed"
    },
    "tags": []
   },
   "outputs": [],
   "source": [
    "y_predict=lr.predict(test)"
   ]
  },
  {
   "cell_type": "code",
   "execution_count": 67,
   "id": "738e3b4a",
   "metadata": {
    "execution": {
     "iopub.execute_input": "2023-01-30T16:53:03.464679Z",
     "iopub.status.busy": "2023-01-30T16:53:03.464116Z",
     "iopub.status.idle": "2023-01-30T16:53:03.471856Z",
     "shell.execute_reply": "2023-01-30T16:53:03.470878Z"
    },
    "id": "c049e74e",
    "outputId": "10bbc555-44bb-4794-c2d0-8ba54f2d7e0b",
    "papermill": {
     "duration": 0.036414,
     "end_time": "2023-01-30T16:53:03.474476",
     "exception": false,
     "start_time": "2023-01-30T16:53:03.438062",
     "status": "completed"
    },
    "tags": []
   },
   "outputs": [
    {
     "data": {
      "text/plain": [
       "(418,)"
      ]
     },
     "execution_count": 67,
     "metadata": {},
     "output_type": "execute_result"
    }
   ],
   "source": [
    "y_predict.shape"
   ]
  },
  {
   "cell_type": "code",
   "execution_count": 68,
   "id": "13e7a21a",
   "metadata": {
    "execution": {
     "iopub.execute_input": "2023-01-30T16:53:03.525906Z",
     "iopub.status.busy": "2023-01-30T16:53:03.525458Z",
     "iopub.status.idle": "2023-01-30T16:53:03.538394Z",
     "shell.execute_reply": "2023-01-30T16:53:03.537004Z"
    },
    "id": "50a902a8",
    "outputId": "7e8105dd-721c-4004-acc8-6eb6d9922188",
    "papermill": {
     "duration": 0.042574,
     "end_time": "2023-01-30T16:53:03.541123",
     "exception": false,
     "start_time": "2023-01-30T16:53:03.498549",
     "status": "completed"
    },
    "tags": []
   },
   "outputs": [
    {
     "data": {
      "text/html": [
       "<div>\n",
       "<style scoped>\n",
       "    .dataframe tbody tr th:only-of-type {\n",
       "        vertical-align: middle;\n",
       "    }\n",
       "\n",
       "    .dataframe tbody tr th {\n",
       "        vertical-align: top;\n",
       "    }\n",
       "\n",
       "    .dataframe thead th {\n",
       "        text-align: right;\n",
       "    }\n",
       "</style>\n",
       "<table border=\"1\" class=\"dataframe\">\n",
       "  <thead>\n",
       "    <tr style=\"text-align: right;\">\n",
       "      <th></th>\n",
       "      <th>PassengerId</th>\n",
       "      <th>Survived</th>\n",
       "    </tr>\n",
       "  </thead>\n",
       "  <tbody>\n",
       "    <tr>\n",
       "      <th>0</th>\n",
       "      <td>892</td>\n",
       "      <td>0</td>\n",
       "    </tr>\n",
       "    <tr>\n",
       "      <th>1</th>\n",
       "      <td>893</td>\n",
       "      <td>0</td>\n",
       "    </tr>\n",
       "    <tr>\n",
       "      <th>2</th>\n",
       "      <td>894</td>\n",
       "      <td>0</td>\n",
       "    </tr>\n",
       "    <tr>\n",
       "      <th>3</th>\n",
       "      <td>895</td>\n",
       "      <td>0</td>\n",
       "    </tr>\n",
       "    <tr>\n",
       "      <th>4</th>\n",
       "      <td>896</td>\n",
       "      <td>1</td>\n",
       "    </tr>\n",
       "  </tbody>\n",
       "</table>\n",
       "</div>"
      ],
      "text/plain": [
       "   PassengerId  Survived\n",
       "0          892         0\n",
       "1          893         0\n",
       "2          894         0\n",
       "3          895         0\n",
       "4          896         1"
      ]
     },
     "execution_count": 68,
     "metadata": {},
     "output_type": "execute_result"
    }
   ],
   "source": [
    "submission = pd.DataFrame({\n",
    "    \"PassengerId\":titanic_test[\"PassengerId\"],\n",
    "    \"Survived\":y_predict\n",
    "})\n",
    "submission.head()"
   ]
  },
  {
   "cell_type": "code",
   "execution_count": 69,
   "id": "a3f04d78",
   "metadata": {
    "execution": {
     "iopub.execute_input": "2023-01-30T16:53:03.594604Z",
     "iopub.status.busy": "2023-01-30T16:53:03.594164Z",
     "iopub.status.idle": "2023-01-30T16:53:03.604366Z",
     "shell.execute_reply": "2023-01-30T16:53:03.602816Z"
    },
    "id": "2e171399",
    "papermill": {
     "duration": 0.041864,
     "end_time": "2023-01-30T16:53:03.607746",
     "exception": false,
     "start_time": "2023-01-30T16:53:03.565882",
     "status": "completed"
    },
    "tags": []
   },
   "outputs": [],
   "source": [
    "submission.to_csv(\"submission.csv\",index=False)"
   ]
  },
  {
   "cell_type": "code",
   "execution_count": null,
   "id": "cc0c75d7",
   "metadata": {
    "id": "56b45af8",
    "papermill": {
     "duration": 0.025257,
     "end_time": "2023-01-30T16:53:03.658891",
     "exception": false,
     "start_time": "2023-01-30T16:53:03.633634",
     "status": "completed"
    },
    "tags": []
   },
   "outputs": [],
   "source": []
  }
 ],
 "metadata": {
  "kernelspec": {
   "display_name": "Python 3",
   "language": "python",
   "name": "python3"
  },
  "language_info": {
   "codemirror_mode": {
    "name": "ipython",
    "version": 3
   },
   "file_extension": ".py",
   "mimetype": "text/x-python",
   "name": "python",
   "nbconvert_exporter": "python",
   "pygments_lexer": "ipython3",
   "version": "3.7.12"
  },
  "papermill": {
   "default_parameters": {},
   "duration": 21.046729,
   "end_time": "2023-01-30T16:53:04.607291",
   "environment_variables": {},
   "exception": null,
   "input_path": "__notebook__.ipynb",
   "output_path": "__notebook__.ipynb",
   "parameters": {},
   "start_time": "2023-01-30T16:52:43.560562",
   "version": "2.3.4"
  }
 },
 "nbformat": 4,
 "nbformat_minor": 5
}
