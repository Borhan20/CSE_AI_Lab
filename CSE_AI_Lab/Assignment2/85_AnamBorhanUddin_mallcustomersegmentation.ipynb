{
  "metadata": {
    "kernelspec": {
      "language": "python",
      "display_name": "Python 3",
      "name": "python3"
    },
    "language_info": {
      "pygments_lexer": "ipython3",
      "nbconvert_exporter": "python",
      "version": "3.6.4",
      "file_extension": ".py",
      "codemirror_mode": {
        "name": "ipython",
        "version": 3
      },
      "name": "python",
      "mimetype": "text/x-python"
    },
    "colab": {
      "provenance": []
    }
  },
  "nbformat_minor": 0,
  "nbformat": 4,
  "cells": [
    {
      "cell_type": "markdown",
      "source": [
        "## **Table of Contents**\n",
        "\n",
        "* [**Getting Started**](#getting_started)\n",
        "* [**Data Preparation**](#preparation)\n",
        "    * [Data Exploration](#exploration)\n",
        "    * [Data Cleaning](#cleaning)\n",
        "* [**Feature Engineering**](#engineering)\n",
        "    * [Data Visualization & Analysis](#data_visualization)\n",
        "    * [Feature Scaling](#scaling)\n",
        "* [**KMeans Clustering**](#kmeans)\n",
        "    * [**Age-Score Clustering**](#as-cluster)\n",
        "        * [Elbow Method](#a_s_elbow)\n",
        "        * [Model Fit](#a_s_fit)\n",
        "        * [Clusters](#a_s_clusters)\n",
        "        * [**Target Customers**](#a_s_target)\n",
        "    * [**Income-Score Clustering**](#is-cluster)\n",
        "        * [Elbow Method](#i_s_elbow)\n",
        "        * [Model Fit](#i_s_fit)\n",
        "        * [Clusters](#i_s_clusters)\n",
        "        * [**Target Customers**](#i_s_target)  \n",
        "    * [**Age-Income-Score Clustering**](#ais-cluster)\n",
        "        * [Elbow Method](#a_i_s_elbow)\n",
        "        * [Model Fit](#a_i_s_fit)\n",
        "        * [Clusters](#a_i_s_clusters)\n",
        "        * [**Target Customers**](#a_i_s_target)"
      ],
      "metadata": {
        "id": "R5C7nIbm7KnK"
      }
    },
    {
      "cell_type": "markdown",
      "source": [
        "## **Getting Started**\n",
        "<a id = \"getting_started\"></a>"
      ],
      "metadata": {
        "id": "cDGTVr7P7KnR"
      }
    },
    {
      "cell_type": "markdown",
      "source": [
        "**Importing necessary libraries.**"
      ],
      "metadata": {
        "id": "zVIuUgt97KnS"
      }
    },
    {
      "cell_type": "code",
      "source": [
        "import numpy as np # linear algebra\n",
        "import pandas as pd # data processing, CSV file I/O (e.g. pd.read_csv)\n",
        "import os\n",
        "import matplotlib\n",
        "import matplotlib.pyplot as plt\n",
        "import seaborn as sns\n",
        "from sklearn import preprocessing\n",
        "from sklearn.preprocessing import MinMaxScaler\n",
        "from sklearn.preprocessing import StandardScaler\n",
        "from sklearn.preprocessing import LabelEncoder\n",
        "from sklearn.cluster import KMeans\n",
        "import plotly.graph_objs as go\n",
        "import plotly as py\n",
        "from sklearn.model_selection import train_test_split\n",
        "from sklearn.model_selection import GridSearchCV\n",
        "from sklearn.metrics import accuracy_score\n",
        "from sklearn.metrics import confusion_matrix"
      ],
      "metadata": {
        "execution": {
          "iopub.status.busy": "2023-02-05T16:23:46.336565Z",
          "iopub.execute_input": "2023-02-05T16:23:46.337023Z",
          "iopub.status.idle": "2023-02-05T16:23:46.345226Z",
          "shell.execute_reply.started": "2023-02-05T16:23:46.336988Z",
          "shell.execute_reply": "2023-02-05T16:23:46.343850Z"
        },
        "trusted": true,
        "id": "QLM1vsUu7KnT"
      },
      "execution_count": null,
      "outputs": []
    },
    {
      "cell_type": "markdown",
      "source": [
        "**Fetching datasets path information (kaggle)**"
      ],
      "metadata": {
        "id": "LGAfD_RU7KnU"
      }
    },
    {
      "cell_type": "code",
      "source": [
        "# Input data files are available in the read-only \"../input/\" directory\n",
        "# For example, running this (by clicking run or pressing Shift+Enter) will list all files under the input directory\n",
        "\n",
        "for dirname, _, filenames in os.walk('/kaggle/input'):\n",
        "    for filename in filenames:\n",
        "        print(os.path.join(dirname, filename))\n",
        "\n",
        "# You can write up to 20GB to the current directory (/kaggle/working/) that gets preserved as output when you create a version using \"Save & Run All\" \n",
        "# You can also write temporary files to /kaggle/temp/, but they won't be saved outside of the current session"
      ],
      "metadata": {
        "_uuid": "8f2839f25d086af736a60e9eeb907d3b93b6e0e5",
        "_cell_guid": "b1076dfc-b9ad-4769-8c92-a6c4dae69d19",
        "execution": {
          "iopub.status.busy": "2023-02-05T16:23:46.365623Z",
          "iopub.execute_input": "2023-02-05T16:23:46.366742Z",
          "iopub.status.idle": "2023-02-05T16:23:46.379304Z",
          "shell.execute_reply.started": "2023-02-05T16:23:46.366692Z",
          "shell.execute_reply": "2023-02-05T16:23:46.378112Z"
        },
        "trusted": true,
        "id": "h_1gcNrV7KnV"
      },
      "execution_count": null,
      "outputs": []
    },
    {
      "cell_type": "markdown",
      "source": [
        "**Loading dataset into pandas dataframes**\n"
      ],
      "metadata": {
        "id": "CH46WzM37KnW"
      }
    },
    {
      "cell_type": "code",
      "source": [
        "data = pd.read_csv(\"/kaggle/input/customer-segmentation-tutorial-in-python/Mall_Customers.csv\")\n",
        "data.head()"
      ],
      "metadata": {
        "execution": {
          "iopub.status.busy": "2023-02-05T16:23:46.399736Z",
          "iopub.execute_input": "2023-02-05T16:23:46.400163Z",
          "iopub.status.idle": "2023-02-05T16:23:46.414543Z",
          "shell.execute_reply.started": "2023-02-05T16:23:46.400127Z",
          "shell.execute_reply": "2023-02-05T16:23:46.413379Z"
        },
        "trusted": true,
        "id": "0BybsDv_7KnX"
      },
      "execution_count": null,
      "outputs": []
    },
    {
      "cell_type": "markdown",
      "source": [
        "## **Data Preparation**\n",
        "<a id = \"preparation\"></a>\n",
        "\n",
        "* [**Data Exploration**](#exploration)\n",
        "* [**Data Cleaning**](#cleaning)"
      ],
      "metadata": {
        "id": "XMvoEfRy7KnY"
      }
    },
    {
      "cell_type": "markdown",
      "source": [
        "### **Data Exploration**\n",
        "<a id = \"exploration\"></a>"
      ],
      "metadata": {
        "id": "7wgB3n_b7KnY"
      }
    },
    {
      "cell_type": "code",
      "source": [
        "data.describe()"
      ],
      "metadata": {
        "execution": {
          "iopub.status.busy": "2023-02-05T16:23:46.431901Z",
          "iopub.execute_input": "2023-02-05T16:23:46.433236Z",
          "iopub.status.idle": "2023-02-05T16:23:46.459696Z",
          "shell.execute_reply.started": "2023-02-05T16:23:46.433179Z",
          "shell.execute_reply": "2023-02-05T16:23:46.458493Z"
        },
        "trusted": true,
        "id": "0XYuGHgx7KnZ"
      },
      "execution_count": null,
      "outputs": []
    },
    {
      "cell_type": "code",
      "source": [
        "data.dtypes"
      ],
      "metadata": {
        "execution": {
          "iopub.status.busy": "2023-02-05T16:23:46.461341Z",
          "iopub.execute_input": "2023-02-05T16:23:46.461886Z",
          "iopub.status.idle": "2023-02-05T16:23:46.470862Z",
          "shell.execute_reply.started": "2023-02-05T16:23:46.461852Z",
          "shell.execute_reply": "2023-02-05T16:23:46.469536Z"
        },
        "trusted": true,
        "id": "IO6CsMt07KnZ"
      },
      "execution_count": null,
      "outputs": []
    },
    {
      "cell_type": "markdown",
      "source": [
        "### **Data Cleaning**\n",
        "<a id = \"cleaning\"></a>"
      ],
      "metadata": {
        "id": "pWqPEu8w7Kna"
      }
    },
    {
      "cell_type": "markdown",
      "source": [
        "**Do we have any null values?**\n",
        "\n",
        "Fortunately, we have no null values into our dataset."
      ],
      "metadata": {
        "id": "MLTL7PrQ7Kna"
      }
    },
    {
      "cell_type": "code",
      "source": [
        "data.isnull().sum()"
      ],
      "metadata": {
        "execution": {
          "iopub.status.busy": "2023-02-05T16:23:46.482437Z",
          "iopub.execute_input": "2023-02-05T16:23:46.483385Z",
          "iopub.status.idle": "2023-02-05T16:23:46.494676Z",
          "shell.execute_reply.started": "2023-02-05T16:23:46.483340Z",
          "shell.execute_reply": "2023-02-05T16:23:46.493513Z"
        },
        "trusted": true,
        "id": "te8-Dqiq7Kna"
      },
      "execution_count": null,
      "outputs": []
    },
    {
      "cell_type": "markdown",
      "source": [
        "**Do we have any unnecessary column that's not affecting the output?**\n",
        "\n",
        "The `CustomerID` column doesn't contribute anything on determining the target customer group.\n",
        "\n",
        "So, we can drop this column."
      ],
      "metadata": {
        "id": "bbT248Y-7Knb"
      }
    },
    {
      "cell_type": "code",
      "source": [
        "data.describe()"
      ],
      "metadata": {
        "execution": {
          "iopub.status.busy": "2023-02-05T16:23:46.510877Z",
          "iopub.execute_input": "2023-02-05T16:23:46.511335Z",
          "iopub.status.idle": "2023-02-05T16:23:46.539022Z",
          "shell.execute_reply.started": "2023-02-05T16:23:46.511281Z",
          "shell.execute_reply": "2023-02-05T16:23:46.537871Z"
        },
        "trusted": true,
        "id": "TfQc-w9a7Knb"
      },
      "execution_count": null,
      "outputs": []
    },
    {
      "cell_type": "code",
      "source": [
        "data.drop([\"CustomerID\"], axis=1, inplace=True)\n",
        "data.head()"
      ],
      "metadata": {
        "execution": {
          "iopub.status.busy": "2023-02-05T16:23:46.542877Z",
          "iopub.execute_input": "2023-02-05T16:23:46.543249Z",
          "iopub.status.idle": "2023-02-05T16:23:46.556708Z",
          "shell.execute_reply.started": "2023-02-05T16:23:46.543217Z",
          "shell.execute_reply": "2023-02-05T16:23:46.555370Z"
        },
        "trusted": true,
        "id": "fc-NQynY7Knc"
      },
      "execution_count": null,
      "outputs": []
    },
    {
      "cell_type": "markdown",
      "source": [
        "**Converting Categorical Values**\n",
        "\n",
        "Male = 1, Female = 0"
      ],
      "metadata": {
        "id": "UcfOTu4U7Knc"
      }
    },
    {
      "cell_type": "code",
      "source": [
        "le = LabelEncoder()\n",
        "data['Gender'] = le.fit_transform(data['Gender'])\n",
        "data.head()"
      ],
      "metadata": {
        "execution": {
          "iopub.status.busy": "2023-02-05T16:23:46.572519Z",
          "iopub.execute_input": "2023-02-05T16:23:46.572940Z",
          "iopub.status.idle": "2023-02-05T16:23:46.586255Z",
          "shell.execute_reply.started": "2023-02-05T16:23:46.572892Z",
          "shell.execute_reply": "2023-02-05T16:23:46.584936Z"
        },
        "trusted": true,
        "id": "e4iAwvts7Knc"
      },
      "execution_count": null,
      "outputs": []
    },
    {
      "cell_type": "markdown",
      "source": [
        "**Renaming Columns**"
      ],
      "metadata": {
        "id": "e6Y9oipx7Knd"
      }
    },
    {
      "cell_type": "code",
      "source": [
        "new_column_names = {\n",
        "    \"Gender\": \"Gender\", \n",
        "    \"Age\": \"Age\", \n",
        "    \"Annual Income (k$)\": \"Income\", \n",
        "    \"Spending Score (1-100)\":\"Score\"\n",
        "}\n",
        "data.rename(columns=new_column_names, inplace=True)\n",
        "data.head()"
      ],
      "metadata": {
        "execution": {
          "iopub.status.busy": "2023-02-05T16:23:46.611261Z",
          "iopub.execute_input": "2023-02-05T16:23:46.612616Z",
          "iopub.status.idle": "2023-02-05T16:23:46.625892Z",
          "shell.execute_reply.started": "2023-02-05T16:23:46.612557Z",
          "shell.execute_reply": "2023-02-05T16:23:46.624630Z"
        },
        "trusted": true,
        "id": "nhH8zlQ67Knd"
      },
      "execution_count": null,
      "outputs": []
    },
    {
      "cell_type": "markdown",
      "source": [
        "## **Feature Engineering**\n",
        "<a id = \"engineering\"></a>\n",
        "\n",
        "* [**Data Visualization & Analysis**](#data_visualization)\n",
        "* [**Feature Engineering**](#scaling)"
      ],
      "metadata": {
        "id": "y5tYlpe17Knd"
      }
    },
    {
      "cell_type": "markdown",
      "source": [
        "### **Data Visualization & Analysis**\n",
        "<a id = \"data_visualization\"></a>"
      ],
      "metadata": {
        "id": "WFKhNglN7Knd"
      }
    },
    {
      "cell_type": "markdown",
      "source": [
        "**KDE Plot** \n",
        "\n",
        "Kernel Density Estimate for the quantitative variables\n",
        "\n",
        "(Similar to histograms. Density instead of frequency.)"
      ],
      "metadata": {
        "id": "0ZXxjKwc7Kne"
      }
    },
    {
      "cell_type": "code",
      "source": [
        "quantitative_columns = ['Age' , 'Income' , 'Score']"
      ],
      "metadata": {
        "execution": {
          "iopub.status.busy": "2023-02-05T16:23:46.635364Z",
          "iopub.execute_input": "2023-02-05T16:23:46.635754Z",
          "iopub.status.idle": "2023-02-05T16:23:46.642264Z",
          "shell.execute_reply.started": "2023-02-05T16:23:46.635723Z",
          "shell.execute_reply": "2023-02-05T16:23:46.640932Z"
        },
        "trusted": true,
        "id": "wa9Hvfg97Kne"
      },
      "execution_count": null,
      "outputs": []
    },
    {
      "cell_type": "code",
      "source": [
        "sns.set(rc={'figure.figsize':(18,9)})\n",
        "sns.kdeplot(data=data[quantitative_columns])"
      ],
      "metadata": {
        "execution": {
          "iopub.status.busy": "2023-02-05T16:23:46.661750Z",
          "iopub.execute_input": "2023-02-05T16:23:46.662866Z",
          "iopub.status.idle": "2023-02-05T16:23:47.044481Z",
          "shell.execute_reply.started": "2023-02-05T16:23:46.662812Z",
          "shell.execute_reply": "2023-02-05T16:23:47.043481Z"
        },
        "trusted": true,
        "id": "JCPC-wjr7Kne"
      },
      "execution_count": null,
      "outputs": []
    },
    {
      "cell_type": "markdown",
      "source": [
        "So, it would be a good idea to normalize these variables. (Inside [Feature Scaling Section](#feature_scaling))"
      ],
      "metadata": {
        "id": "KCpFIiXW7Kne"
      }
    },
    {
      "cell_type": "markdown",
      "source": [
        "**Count Plot**\n",
        "\n",
        "For the only qualitative variable, `Gender`"
      ],
      "metadata": {
        "id": "gb52sPzt7Kne"
      }
    },
    {
      "cell_type": "code",
      "source": [
        "sns.countplot(x='Gender',data=data)"
      ],
      "metadata": {
        "execution": {
          "iopub.status.busy": "2023-02-05T16:23:47.046151Z",
          "iopub.execute_input": "2023-02-05T16:23:47.047318Z",
          "iopub.status.idle": "2023-02-05T16:23:47.275586Z",
          "shell.execute_reply.started": "2023-02-05T16:23:47.047277Z",
          "shell.execute_reply": "2023-02-05T16:23:47.274300Z"
        },
        "trusted": true,
        "id": "PwrhLwVg7Knf"
      },
      "execution_count": null,
      "outputs": []
    },
    {
      "cell_type": "markdown",
      "source": [
        "**Scatter Plot: Age vs Score**\n",
        "\n",
        "`Age` and `Score` have a **weak** relation between them. \n",
        "\n",
        "* Customers with lower age values tend to have higher score. Thus, higher buying tendency."
      ],
      "metadata": {
        "id": "XqWWaytn7Knf"
      }
    },
    {
      "cell_type": "code",
      "source": [
        "sns.scatterplot(data=data, x=\"Age\", y=\"Score\", hue=\"Gender\")"
      ],
      "metadata": {
        "execution": {
          "iopub.status.busy": "2023-02-05T16:23:47.276888Z",
          "iopub.execute_input": "2023-02-05T16:23:47.277257Z",
          "iopub.status.idle": "2023-02-05T16:23:47.652012Z",
          "shell.execute_reply.started": "2023-02-05T16:23:47.277225Z",
          "shell.execute_reply": "2023-02-05T16:23:47.650759Z"
        },
        "trusted": true,
        "id": "uKPOT1yR7Knf"
      },
      "execution_count": null,
      "outputs": []
    },
    {
      "cell_type": "markdown",
      "source": [
        "**Scatter Plot: Income vs Score**\n",
        "\n",
        "`Income` and `Score` have a **moderate** relation between them. \n",
        "\n",
        "* Customers with 40-70 k annual income, tend to have a medium score of 40-60. \n",
        "\n",
        "* On the other hand, both the lower and the higher income customers can be divided into two seperate group of lower and higher scores. "
      ],
      "metadata": {
        "id": "6aG2K6L67Knf"
      }
    },
    {
      "cell_type": "code",
      "source": [
        "sns.scatterplot(data=data, x=\"Income\", y=\"Score\", hue=\"Gender\")"
      ],
      "metadata": {
        "execution": {
          "iopub.status.busy": "2023-02-05T16:23:47.655532Z",
          "iopub.execute_input": "2023-02-05T16:23:47.656059Z",
          "iopub.status.idle": "2023-02-05T16:23:48.040849Z",
          "shell.execute_reply.started": "2023-02-05T16:23:47.656001Z",
          "shell.execute_reply": "2023-02-05T16:23:48.039976Z"
        },
        "trusted": true,
        "id": "Y6Oyol9Q7Knf"
      },
      "execution_count": null,
      "outputs": []
    },
    {
      "cell_type": "markdown",
      "source": [
        "**Group By Mean (Gender)**\n",
        "\n",
        "* Mean score of `Female (0)` customers > Mean score of `Male (1)` customers\n",
        "\n",
        "* But it doesn't indicate any `strong` relation, based upon which, we can cluster them.\n",
        "\n",
        "* So, we can ignore `Gender` while using clustering."
      ],
      "metadata": {
        "id": "BTUQ2N0Q7Kng"
      }
    },
    {
      "cell_type": "code",
      "source": [
        "data.groupby(['Gender']).mean()"
      ],
      "metadata": {
        "execution": {
          "iopub.status.busy": "2023-02-05T16:23:48.042550Z",
          "iopub.execute_input": "2023-02-05T16:23:48.042960Z",
          "iopub.status.idle": "2023-02-05T16:23:48.057875Z",
          "shell.execute_reply.started": "2023-02-05T16:23:48.042895Z",
          "shell.execute_reply": "2023-02-05T16:23:48.056724Z"
        },
        "trusted": true,
        "id": "naktaTa67Kng"
      },
      "execution_count": null,
      "outputs": []
    },
    {
      "cell_type": "markdown",
      "source": [
        "### **Feature Scaling**\n",
        "<a id =\"scaling\"></a>"
      ],
      "metadata": {
        "id": "LFUCi4I47Kng"
      }
    },
    {
      "cell_type": "markdown",
      "source": [
        "**Normalization**\n",
        "\n",
        "Using `MinMaxScaler` from `sklearn`"
      ],
      "metadata": {
        "id": "HdQVMD-G7Kng"
      }
    },
    {
      "cell_type": "code",
      "source": [
        "min_max_scaler = MinMaxScaler()\n",
        "data[quantitative_columns] = min_max_scaler.fit_transform(data[quantitative_columns])\n",
        "data.head()"
      ],
      "metadata": {
        "execution": {
          "iopub.status.busy": "2023-02-05T16:23:48.059217Z",
          "iopub.execute_input": "2023-02-05T16:23:48.060365Z",
          "iopub.status.idle": "2023-02-05T16:23:48.086659Z",
          "shell.execute_reply.started": "2023-02-05T16:23:48.060325Z",
          "shell.execute_reply": "2023-02-05T16:23:48.085105Z"
        },
        "trusted": true,
        "id": "wPEPPeHL7Kng"
      },
      "execution_count": null,
      "outputs": []
    },
    {
      "cell_type": "markdown",
      "source": [
        "**Standardization**\n",
        "\n",
        "Using `StandardScaler` from `sklearn`\n",
        "\n",
        "(Not Needed I think)"
      ],
      "metadata": {
        "id": "jE7-IUmb7Knh"
      }
    },
    {
      "cell_type": "code",
      "source": [
        "# standard_scaler = StandardScaler()\n",
        "# data[quantitative_columns] = standard_scaler.fit_transform(data[quantitative_columns])\n",
        "# data.head()"
      ],
      "metadata": {
        "execution": {
          "iopub.status.busy": "2023-02-05T16:23:48.088616Z",
          "iopub.execute_input": "2023-02-05T16:23:48.089184Z",
          "iopub.status.idle": "2023-02-05T16:23:48.096965Z",
          "shell.execute_reply.started": "2023-02-05T16:23:48.089138Z",
          "shell.execute_reply": "2023-02-05T16:23:48.094775Z"
        },
        "trusted": true,
        "id": "vHeynSaL7Knh"
      },
      "execution_count": null,
      "outputs": []
    },
    {
      "cell_type": "markdown",
      "source": [
        "## **KMeans Clustering**\n",
        "<a id = \"kmeans\"></a>\n",
        "\n",
        "* [**Age-Score Clustering**](#as-cluster)\n",
        "* [**Income-Score Clustering**](#is-cluster)\n",
        "* [**Age-Income-Score Clustering**](#ais-cluster)"
      ],
      "metadata": {
        "id": "hnAFOQzO7Knh"
      }
    },
    {
      "cell_type": "markdown",
      "source": [
        "### **Age-Score Clustering**\n",
        "<a id=\"as-cluster\"></a>\n",
        "\n",
        "* [**Elbow Method**](#a_s_elbow)\n",
        "* [**Model Fit**](#a_s_fit)\n",
        "* [**Clusters**](#a_s_clusters)\n",
        "* [**Target Customers**](#a_s_target)"
      ],
      "metadata": {
        "id": "2EcQAJKg7Knh"
      }
    },
    {
      "cell_type": "markdown",
      "source": [],
      "metadata": {
        "id": "t8ttE4Hp7Knh"
      }
    },
    {
      "cell_type": "code",
      "source": [
        "a_s_clustering_data = data.copy()\n",
        "# [Gender, Age, Income, Score]\n",
        "a_s_clustering_data = a_s_clustering_data.iloc[:, [False, True, False, True]]\n",
        "a_s_clustering_data.head()"
      ],
      "metadata": {
        "execution": {
          "iopub.status.busy": "2023-02-05T16:23:48.099182Z",
          "iopub.execute_input": "2023-02-05T16:23:48.099566Z",
          "iopub.status.idle": "2023-02-05T16:23:48.119533Z",
          "shell.execute_reply.started": "2023-02-05T16:23:48.099532Z",
          "shell.execute_reply": "2023-02-05T16:23:48.117846Z"
        },
        "trusted": true,
        "id": "2_I7bYKT7Kni"
      },
      "execution_count": null,
      "outputs": []
    },
    {
      "cell_type": "markdown",
      "source": [
        "#### **Elbow Method**\n",
        "<a id = a_s_elbow></a>"
      ],
      "metadata": {
        "id": "YlDGb-9H7Kni"
      }
    },
    {
      "cell_type": "code",
      "source": [
        "sum_of_squared_error = []\n",
        "max_k = 10\n",
        "for k in range(1, max_k):\n",
        "    model = KMeans(n_clusters=k)\n",
        "    model.fit(a_s_clustering_data)\n",
        "    sum_of_squared_error.append(model.inertia_)"
      ],
      "metadata": {
        "execution": {
          "iopub.status.busy": "2023-02-05T16:23:48.121644Z",
          "iopub.execute_input": "2023-02-05T16:23:48.123221Z",
          "iopub.status.idle": "2023-02-05T16:23:48.923125Z",
          "shell.execute_reply.started": "2023-02-05T16:23:48.123161Z",
          "shell.execute_reply": "2023-02-05T16:23:48.921975Z"
        },
        "trusted": true,
        "id": "3u4srZyR7Kni"
      },
      "execution_count": null,
      "outputs": []
    },
    {
      "cell_type": "code",
      "source": [
        "plt.title('The Elbow Method (Age-Score)')\n",
        "plt.xlabel('k')\n",
        "plt.ylabel('Sum of Squared Error')\n",
        "plt.xticks(range(1, max_k))\n",
        "plt.plot(range(1,max_k),sum_of_squared_error)\n",
        "plt.plot(2, sum_of_squared_error[1],'ro') \n",
        "plt.show()"
      ],
      "metadata": {
        "_kg_hide-input": true,
        "execution": {
          "iopub.status.busy": "2023-02-05T16:23:48.927842Z",
          "iopub.execute_input": "2023-02-05T16:23:48.928831Z",
          "iopub.status.idle": "2023-02-05T16:23:49.216016Z",
          "shell.execute_reply.started": "2023-02-05T16:23:48.928777Z",
          "shell.execute_reply": "2023-02-05T16:23:49.214720Z"
        },
        "trusted": true,
        "id": "Co6GKiO97Kni"
      },
      "execution_count": null,
      "outputs": []
    },
    {
      "cell_type": "markdown",
      "source": [
        "#### **Model Fit**\n",
        "<a id = a_s_fit></a>\n",
        "\n",
        "k = 2"
      ],
      "metadata": {
        "id": "zZjLK04N7Kni"
      }
    },
    {
      "cell_type": "code",
      "source": [
        "k=2\n",
        "model = (KMeans(n_clusters = k ,init='k-means++', n_init = 10 ,max_iter=300, tol=0.0001,  random_state= 111  , algorithm='elkan') )\n",
        "model.fit(a_s_clustering_data)"
      ],
      "metadata": {
        "execution": {
          "iopub.status.busy": "2023-02-05T16:23:49.217677Z",
          "iopub.execute_input": "2023-02-05T16:23:49.218078Z",
          "iopub.status.idle": "2023-02-05T16:23:49.252417Z",
          "shell.execute_reply.started": "2023-02-05T16:23:49.218046Z",
          "shell.execute_reply": "2023-02-05T16:23:49.250560Z"
        },
        "trusted": true,
        "id": "yikznYg37Kni"
      },
      "execution_count": null,
      "outputs": []
    },
    {
      "cell_type": "markdown",
      "source": [
        "#### **Clusters**\n",
        "<a id = a_s_clusters></a>"
      ],
      "metadata": {
        "id": "aW80hSmb7Knj"
      }
    },
    {
      "cell_type": "code",
      "source": [
        "clusters = model.labels_\n",
        "centroids = model.cluster_centers_\n",
        "a_s_clustering_data['Clusters'] = clusters\n",
        "\n",
        "sns.scatterplot(x=a_s_clustering_data['Age'], \n",
        "                y=a_s_clustering_data['Score'], \n",
        "                hue=a_s_clustering_data['Clusters'], \n",
        "                palette=sns.color_palette('husl', k))\n",
        "plt.title('Age-Score KMeans Clustering (k={})'.format(k))\n",
        "plt.show()"
      ],
      "metadata": {
        "_kg_hide-input": true,
        "execution": {
          "iopub.status.busy": "2023-02-05T16:23:49.254199Z",
          "iopub.execute_input": "2023-02-05T16:23:49.254837Z",
          "iopub.status.idle": "2023-02-05T16:23:49.643102Z",
          "shell.execute_reply.started": "2023-02-05T16:23:49.254785Z",
          "shell.execute_reply": "2023-02-05T16:23:49.641688Z"
        },
        "trusted": true,
        "id": "fpOuV-gQ7Knj"
      },
      "execution_count": null,
      "outputs": []
    },
    {
      "cell_type": "markdown",
      "source": [
        "#### **Target Customers**\n",
        "<a id = a_s_target></a>\n",
        "\n",
        "* **RED CLUSTER**\n",
        "    * `LOW AGE` indicates that the customer will have`HIGH Score`. (Good prospect for new products) \n",
        "* **GREEN CLUSTER**\n",
        "    * `HIGH AGE` and `LOW Score`\n",
        "\n",
        "So, We should target **LOW AGE** customers."
      ],
      "metadata": {
        "id": "8ygC2Bhl7Knj"
      }
    },
    {
      "cell_type": "markdown",
      "source": [
        "### **Income-Score Clustering**\n",
        "<a id=\"is-cluster\"></a>\n",
        "\n",
        "* [**Elbow Method**](#i_s_elbow)\n",
        "* [**Model Fit**](#i_s_fit)\n",
        "* [**Clusters**](#i_s_clusters)\n",
        "* [**Target Customers**](#i_s_target)"
      ],
      "metadata": {
        "id": "_3Lv1co67Knj"
      }
    },
    {
      "cell_type": "code",
      "source": [
        "i_s_clustering_data = data.copy()\n",
        "# [Gender, Age, Income, Score]\n",
        "i_s_clustering_data = i_s_clustering_data.iloc[:, [False, False, True, True]]\n",
        "i_s_clustering_data.head()"
      ],
      "metadata": {
        "execution": {
          "iopub.status.busy": "2023-02-05T16:23:49.644761Z",
          "iopub.execute_input": "2023-02-05T16:23:49.645400Z",
          "iopub.status.idle": "2023-02-05T16:23:49.661181Z",
          "shell.execute_reply.started": "2023-02-05T16:23:49.645352Z",
          "shell.execute_reply": "2023-02-05T16:23:49.660119Z"
        },
        "trusted": true,
        "id": "7zuFb_VU7Knk"
      },
      "execution_count": null,
      "outputs": []
    },
    {
      "cell_type": "markdown",
      "source": [
        "#### **Elbow Method**\n",
        "<a id = i_s_elbow></a>"
      ],
      "metadata": {
        "id": "twCcpQWd7Knk"
      }
    },
    {
      "cell_type": "code",
      "source": [
        "sum_of_squared_error = []\n",
        "max_k = 20\n",
        "for k in range(1, max_k):\n",
        "    model = KMeans(n_clusters=k)\n",
        "    model.fit(i_s_clustering_data)\n",
        "    sum_of_squared_error.append(model.inertia_)"
      ],
      "metadata": {
        "execution": {
          "iopub.status.busy": "2023-02-05T16:23:49.663002Z",
          "iopub.execute_input": "2023-02-05T16:23:49.663625Z",
          "iopub.status.idle": "2023-02-05T16:23:50.675594Z",
          "shell.execute_reply.started": "2023-02-05T16:23:49.663588Z",
          "shell.execute_reply": "2023-02-05T16:23:50.674620Z"
        },
        "trusted": true,
        "id": "PY6x4dMV7Knk"
      },
      "execution_count": null,
      "outputs": []
    },
    {
      "cell_type": "code",
      "source": [
        "plt.title('The Elbow Method (Income-Score)')\n",
        "plt.xlabel('k')\n",
        "plt.ylabel('Sum of Squared Error')\n",
        "plt.xticks(range(1, max_k))\n",
        "plt.plot(range(1,max_k),sum_of_squared_error)\n",
        "plt.plot(5, sum_of_squared_error[4],'ro') \n",
        "plt.show()"
      ],
      "metadata": {
        "_kg_hide-input": true,
        "execution": {
          "iopub.status.busy": "2023-02-05T16:23:50.680266Z",
          "iopub.execute_input": "2023-02-05T16:23:50.681077Z",
          "iopub.status.idle": "2023-02-05T16:23:51.056699Z",
          "shell.execute_reply.started": "2023-02-05T16:23:50.681034Z",
          "shell.execute_reply": "2023-02-05T16:23:51.055707Z"
        },
        "trusted": true,
        "id": "T9DsKUar7Knk"
      },
      "execution_count": null,
      "outputs": []
    },
    {
      "cell_type": "markdown",
      "source": [
        "#### **Model Fit**\n",
        "<a id = i_s_fit></a>\n",
        "k = 5"
      ],
      "metadata": {
        "id": "waCvTXfS7Knl"
      }
    },
    {
      "cell_type": "code",
      "source": [
        "k = 5\n",
        "model = (KMeans(n_clusters = k ,init='k-means++', n_init = 10 ,max_iter=300, tol=0.0001,  random_state= 111  , algorithm='elkan') )\n",
        "model.fit(i_s_clustering_data)"
      ],
      "metadata": {
        "execution": {
          "iopub.status.busy": "2023-02-05T16:23:51.057973Z",
          "iopub.execute_input": "2023-02-05T16:23:51.058990Z",
          "iopub.status.idle": "2023-02-05T16:23:51.101947Z",
          "shell.execute_reply.started": "2023-02-05T16:23:51.058906Z",
          "shell.execute_reply": "2023-02-05T16:23:51.100526Z"
        },
        "trusted": true,
        "id": "7fTJWGZh7Knl"
      },
      "execution_count": null,
      "outputs": []
    },
    {
      "cell_type": "markdown",
      "source": [
        "#### **Clusters**\n",
        "<a id = i_s_clusters></a>"
      ],
      "metadata": {
        "id": "LIYwipsQ7Knl"
      }
    },
    {
      "cell_type": "code",
      "source": [
        "clusters = model.labels_\n",
        "centroids = model.cluster_centers_\n",
        "i_s_clustering_data['Clusters'] = clusters\n",
        "sns.scatterplot(x=i_s_clustering_data['Income'], \n",
        "                y=i_s_clustering_data['Score'], \n",
        "                hue=i_s_clustering_data['Clusters'], \n",
        "                palette=sns.color_palette('husl', k))\n",
        "plt.title('Income-Score KMeans Clustering (k={})'.format(k))\n",
        "plt.show()"
      ],
      "metadata": {
        "_kg_hide-input": true,
        "execution": {
          "iopub.status.busy": "2023-02-05T16:23:51.103725Z",
          "iopub.execute_input": "2023-02-05T16:23:51.105079Z",
          "iopub.status.idle": "2023-02-05T16:23:51.564636Z",
          "shell.execute_reply.started": "2023-02-05T16:23:51.105017Z",
          "shell.execute_reply": "2023-02-05T16:23:51.563200Z"
        },
        "trusted": true,
        "id": "_sas5Z3S7Knl"
      },
      "execution_count": null,
      "outputs": []
    },
    {
      "cell_type": "markdown",
      "source": [
        "#### **Target Customers**\n",
        "<a id = i_s_target></a>\n",
        "\n",
        "* **RED CLUSTER**\n",
        "    * `MEDIUM Income` indicates that the customer will have`MEDIUM Score`. (Good prospect for trusted customers) \n",
        "* **GREEN CLUSTER**\n",
        "    * `LOW Income` and `LOW Score`\n",
        "* **PURPLE CLUSTER**\n",
        "    * `LOW Income` but `HIGH Score` (But not consistent)\n",
        "* **YELLOW CLUSTER**\n",
        "    * `HIGH Income` and `LOW Score`\n",
        "* **BLUE CLUSTER**\n",
        "    * `HIGH Income` and `HIGH Score` (But not consistent)\n",
        "    \n",
        "So, We should target **MEDIUM INCOME** customers."
      ],
      "metadata": {
        "id": "iQrkn2X07Knm"
      }
    },
    {
      "cell_type": "markdown",
      "source": [
        "### **Age-Income-Score Clustering**\n",
        "<a id=\"ais-cluster\"></a>\n",
        "\n",
        "* [**Elbow Method**](#a_i_s_elbow)\n",
        "* [**Model Fit**](#a_i_s_fit)\n",
        "* [**Clusters**](#a_i_s_clusters)\n",
        "* [**Target Customers**](#a_i_s_target)\n"
      ],
      "metadata": {
        "id": "-xSuttvV7Knm"
      }
    },
    {
      "cell_type": "code",
      "source": [
        "a_i_s_clustering_data = data.copy()\n",
        "# [Gender, Age, Income, Score]\n",
        "a_i_s_clustering_data = a_i_s_clustering_data.iloc[:, [False, True, True, True]]\n",
        "a_i_s_clustering_data.head()"
      ],
      "metadata": {
        "execution": {
          "iopub.status.busy": "2023-02-05T16:23:51.566355Z",
          "iopub.execute_input": "2023-02-05T16:23:51.566839Z",
          "iopub.status.idle": "2023-02-05T16:23:51.581546Z",
          "shell.execute_reply.started": "2023-02-05T16:23:51.566803Z",
          "shell.execute_reply": "2023-02-05T16:23:51.579996Z"
        },
        "trusted": true,
        "id": "rb_MJh-Y7Knm"
      },
      "execution_count": null,
      "outputs": []
    },
    {
      "cell_type": "markdown",
      "source": [
        "#### **Elbow Method**\n",
        "<a id = a_i_s_elbow></a>"
      ],
      "metadata": {
        "id": "w48sXLG87Knm"
      }
    },
    {
      "cell_type": "code",
      "source": [
        "sum_of_squared_error = []\n",
        "max_k = 20\n",
        "for k in range(1, max_k):\n",
        "    model = KMeans(n_clusters=k)\n",
        "    model.fit(a_i_s_clustering_data)\n",
        "    sum_of_squared_error.append(model.inertia_)"
      ],
      "metadata": {
        "execution": {
          "iopub.status.busy": "2023-02-05T16:23:51.583458Z",
          "iopub.execute_input": "2023-02-05T16:23:51.583839Z",
          "iopub.status.idle": "2023-02-05T16:23:52.614948Z",
          "shell.execute_reply.started": "2023-02-05T16:23:51.583805Z",
          "shell.execute_reply": "2023-02-05T16:23:52.613770Z"
        },
        "trusted": true,
        "id": "CA9G6AlU7Knn"
      },
      "execution_count": null,
      "outputs": []
    },
    {
      "cell_type": "code",
      "source": [
        "plt.title('The Elbow Method (Age-Income-Score)')\n",
        "plt.xlabel('k')\n",
        "plt.ylabel('Sum of Squared Error')\n",
        "plt.xticks(range(1, max_k))\n",
        "plt.plot(range(1,max_k),sum_of_squared_error)\n",
        "plt.plot(4, sum_of_squared_error[3],'ro') \n",
        "plt.show()"
      ],
      "metadata": {
        "_kg_hide-input": true,
        "execution": {
          "iopub.status.busy": "2023-02-05T16:23:52.616510Z",
          "iopub.execute_input": "2023-02-05T16:23:52.617987Z",
          "iopub.status.idle": "2023-02-05T16:23:53.011462Z",
          "shell.execute_reply.started": "2023-02-05T16:23:52.617929Z",
          "shell.execute_reply": "2023-02-05T16:23:53.010134Z"
        },
        "trusted": true,
        "id": "US-cYMDm7Knn"
      },
      "execution_count": null,
      "outputs": []
    },
    {
      "cell_type": "markdown",
      "source": [
        "#### **Model Fit**\n",
        "<a id = a_i_s_fit></a>\n",
        "\n",
        "k = 4"
      ],
      "metadata": {
        "id": "UR8qlGgT7Knn"
      }
    },
    {
      "cell_type": "code",
      "source": [
        "k = 4\n",
        "model = (KMeans(n_clusters = k ,init='k-means++', n_init = 10 ,max_iter=300, tol=0.0001,  random_state= 111  , algorithm='elkan') )\n",
        "model.fit(a_i_s_clustering_data)"
      ],
      "metadata": {
        "execution": {
          "iopub.status.busy": "2023-02-05T16:23:53.013097Z",
          "iopub.execute_input": "2023-02-05T16:23:53.013560Z",
          "iopub.status.idle": "2023-02-05T16:23:53.059824Z",
          "shell.execute_reply.started": "2023-02-05T16:23:53.013513Z",
          "shell.execute_reply": "2023-02-05T16:23:53.058843Z"
        },
        "trusted": true,
        "id": "9ByjIgsl7Knn"
      },
      "execution_count": null,
      "outputs": []
    },
    {
      "cell_type": "markdown",
      "source": [
        "#### **Clusters**\n",
        "<a id = a_i_s_clusters></a>"
      ],
      "metadata": {
        "id": "nojHVUIE7Knn"
      }
    },
    {
      "cell_type": "code",
      "source": [
        "labels = model.labels_\n",
        "centroids = model.cluster_centers_\n",
        "a_i_s_clustering_data['Clusters'] = labels\n",
        "trace1 = go.Scatter3d(\n",
        "    x= a_i_s_clustering_data['Age'],\n",
        "    y= a_i_s_clustering_data['Score'],\n",
        "    z= a_i_s_clustering_data['Income'],\n",
        "    mode='markers',\n",
        "     marker=dict(\n",
        "        colorscale = \"sunset\",\n",
        "        color = a_i_s_clustering_data['Clusters'], \n",
        "        size= 20,\n",
        "        line=dict(\n",
        "            colorscale = \"sunset\",\n",
        "            color= a_i_s_clustering_data['Clusters'],\n",
        "            width= 12\n",
        "        ),\n",
        "        opacity=0.6\n",
        "     )\n",
        ")\n",
        "data_trace = [trace1]\n",
        "layout = go.Layout(\n",
        "    title= '3D Clusters (Age-Income-Score)',\n",
        "    scene = dict(\n",
        "            xaxis = dict(title  = 'Age'),\n",
        "            yaxis = dict(title  = 'Score'),\n",
        "            zaxis = dict(title  = 'Income')\n",
        "        )\n",
        ")\n",
        "fig = go.Figure(data=data_trace, layout=layout)\n",
        "py.offline.iplot(fig)"
      ],
      "metadata": {
        "_kg_hide-input": true,
        "execution": {
          "iopub.status.busy": "2023-02-05T16:23:53.061582Z",
          "iopub.execute_input": "2023-02-05T16:23:53.062348Z",
          "iopub.status.idle": "2023-02-05T16:23:53.106454Z",
          "shell.execute_reply.started": "2023-02-05T16:23:53.062307Z",
          "shell.execute_reply": "2023-02-05T16:23:53.104752Z"
        },
        "trusted": true,
        "id": "ah5BvBIn7Kno"
      },
      "execution_count": null,
      "outputs": []
    },
    {
      "cell_type": "markdown",
      "source": [
        "#### **Target Customers**\n",
        "<a id = a_i_s_target></a>\n",
        "\n",
        "* **BLUE CLUSTER**\n",
        "    * `LOW-MEDIUM Income` and `MEDIUM-HIGH Age` indicates that the customer will have`MEDIUM-LOW Score`\n",
        "* **YELLOW CLUSTER**\n",
        "    * `LOW-MEDIUM Income` and `LOW-MEDIUM Age` indicates that the customer will have`MEDIUM-HIGH Score`\n",
        "* **MAGENTA CLUSTER**\n",
        "    * `MEDIUM-HIGH Income` and `LOW-HIGH Age` indicates that the customer will have`MEDIUM-HIGH Score`\n",
        "* **ORANGE CLUSTER**\n",
        "    * `MEDIUM-HIGH Income` and `LOW-MEDIUM Age` indicates that the customer will have`MEDIUM-HIGH Score`\n",
        "    \n",
        "So, We should target **LOW-MEDIUM AGE** and **MEDIUM-HIGH INCOME** customers."
      ],
      "metadata": {
        "id": "T81iT4g27Kno"
      }
    }
  ]
}